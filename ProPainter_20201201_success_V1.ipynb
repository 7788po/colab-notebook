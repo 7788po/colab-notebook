{
  "nbformat": 4,
  "nbformat_minor": 0,
  "metadata": {
    "colab": {
      "provenance": [],
      "gpuType": "T4",
      "mount_file_id": "1xoAh9O58WZDCOQne2JLIh1VM1pVHxxZj",
      "authorship_tag": "ABX9TyNf/GY5p0stHwXWshQCbP55",
      "include_colab_link": true
    },
    "kernelspec": {
      "name": "python3",
      "display_name": "Python 3"
    },
    "language_info": {
      "name": "python"
    },
    "accelerator": "GPU"
  },
  "cells": [
    {
      "cell_type": "markdown",
      "metadata": {
        "id": "view-in-github",
        "colab_type": "text"
      },
      "source": [
        "<a href=\"https://colab.research.google.com/github/7788po/colab-notebook/blob/main/ProPainter_20201201_success_V1.ipynb\" target=\"_parent\"><img src=\"https://colab.research.google.com/assets/colab-badge.svg\" alt=\"Open In Colab\"/></a>"
      ]
    },
    {
      "cell_type": "code",
      "execution_count": 1,
      "metadata": {
        "colab": {
          "base_uri": "https://localhost:8080/"
        },
        "id": "moJkxivqiHcy",
        "outputId": "ff09969d-d03c-49c8-9a8c-bce01c59a801"
      },
      "outputs": [
        {
          "output_type": "stream",
          "name": "stdout",
          "text": [
            "\u001b[2K     \u001b[90m━━━━━━━━━━━━━━━━━━━━━━━━━━━━━━━━━━━━━━━━\u001b[0m \u001b[32m2.2/2.2 MB\u001b[0m \u001b[31m11.2 MB/s\u001b[0m eta \u001b[36m0:00:00\u001b[0m\n",
            "\u001b[2K     \u001b[90m━━━━━━━━━━━━━━━━━━━━━━━━━━━━━━━━━━━━━━━━\u001b[0m \u001b[32m44.6/44.6 kB\u001b[0m \u001b[31m6.2 MB/s\u001b[0m eta \u001b[36m0:00:00\u001b[0m\n",
            "\u001b[2K     \u001b[90m━━━━━━━━━━━━━━━━━━━━━━━━━━━━━━━━━━━━━━━━\u001b[0m \u001b[32m32.9/32.9 MB\u001b[0m \u001b[31m52.3 MB/s\u001b[0m eta \u001b[36m0:00:00\u001b[0m\n",
            "\u001b[?25h"
          ]
        }
      ],
      "source": [
        "!pip install -q timm einops av"
      ]
    },
    {
      "cell_type": "code",
      "source": [
        "!git clone https://github.com/sczhou/ProPainter.git"
      ],
      "metadata": {
        "colab": {
          "base_uri": "https://localhost:8080/"
        },
        "id": "n9i2hpnJjk5K",
        "outputId": "31effcb4-efe1-414f-daee-aeb55ea19894"
      },
      "execution_count": 2,
      "outputs": [
        {
          "output_type": "stream",
          "name": "stdout",
          "text": [
            "Cloning into 'ProPainter'...\n",
            "remote: Enumerating objects: 593, done.\u001b[K\n",
            "remote: Counting objects: 100% (112/112), done.\u001b[K\n",
            "remote: Compressing objects: 100% (82/82), done.\u001b[K\n",
            "remote: Total 593 (delta 30), reused 91 (delta 23), pack-reused 481\u001b[K\n",
            "Receiving objects: 100% (593/593), 55.21 MiB | 25.36 MiB/s, done.\n",
            "Resolving deltas: 100% (83/83), done.\n"
          ]
        }
      ]
    },
    {
      "cell_type": "code",
      "source": [
        "!pwd"
      ],
      "metadata": {
        "colab": {
          "base_uri": "https://localhost:8080/"
        },
        "id": "qdRUJRF7nZex",
        "outputId": "495de19b-5fb5-493c-92ed-ba6868aadb08"
      },
      "execution_count": 3,
      "outputs": [
        {
          "output_type": "stream",
          "name": "stdout",
          "text": [
            "/content\n"
          ]
        }
      ]
    },
    {
      "cell_type": "code",
      "source": [
        "!ls"
      ],
      "metadata": {
        "colab": {
          "base_uri": "https://localhost:8080/"
        },
        "id": "hMHrQNOVoG49",
        "outputId": "0fe86d1d-d8a2-49d2-91f8-44d68bd257bc"
      },
      "execution_count": 4,
      "outputs": [
        {
          "output_type": "stream",
          "name": "stdout",
          "text": [
            "ProPainter  sample_data\n"
          ]
        }
      ]
    },
    {
      "cell_type": "code",
      "source": [
        "%cd ProPainter"
      ],
      "metadata": {
        "colab": {
          "base_uri": "https://localhost:8080/"
        },
        "id": "hF55cQXXoIr1",
        "outputId": "987be58f-9aca-4ba2-fb7f-f32b9de8705d"
      },
      "execution_count": 5,
      "outputs": [
        {
          "output_type": "stream",
          "name": "stdout",
          "text": [
            "/content/ProPainter\n"
          ]
        }
      ]
    },
    {
      "cell_type": "code",
      "source": [
        "!ls"
      ],
      "metadata": {
        "colab": {
          "base_uri": "https://localhost:8080/"
        },
        "id": "Lu85-3RyoNqT",
        "outputId": "c1c07b43-8e17-4e2f-fd13-aa77a2b27d1a"
      },
      "execution_count": 6,
      "outputs": [
        {
          "output_type": "stream",
          "name": "stdout",
          "text": [
            "assets\t datasets\t\t  LICENSE  README.md\t     train.py\tweights\n",
            "configs  inference_propainter.py  model    requirements.txt  utils\n",
            "core\t inputs\t\t\t  RAFT\t   scripts\t     web-demos\n"
          ]
        }
      ]
    },
    {
      "cell_type": "code",
      "source": [
        "!pip install -r requirements.txt"
      ],
      "metadata": {
        "colab": {
          "base_uri": "https://localhost:8080/"
        },
        "id": "9cAylYFXoS3E",
        "outputId": "19db7d05-2440-41c0-d5fe-df68796c7c03"
      },
      "execution_count": 7,
      "outputs": [
        {
          "output_type": "stream",
          "name": "stdout",
          "text": [
            "Requirement already satisfied: av in /usr/local/lib/python3.10/dist-packages (from -r requirements.txt (line 1)) (11.0.0)\n",
            "Collecting addict (from -r requirements.txt (line 2))\n",
            "  Downloading addict-2.4.0-py3-none-any.whl (3.8 kB)\n",
            "Requirement already satisfied: einops in /usr/local/lib/python3.10/dist-packages (from -r requirements.txt (line 3)) (0.7.0)\n",
            "Requirement already satisfied: future in /usr/local/lib/python3.10/dist-packages (from -r requirements.txt (line 4)) (0.18.3)\n",
            "Requirement already satisfied: numpy in /usr/local/lib/python3.10/dist-packages (from -r requirements.txt (line 5)) (1.23.5)\n",
            "Requirement already satisfied: scipy in /usr/local/lib/python3.10/dist-packages (from -r requirements.txt (line 6)) (1.11.4)\n",
            "Requirement already satisfied: opencv-python in /usr/local/lib/python3.10/dist-packages (from -r requirements.txt (line 7)) (4.8.0.76)\n",
            "Requirement already satisfied: matplotlib in /usr/local/lib/python3.10/dist-packages (from -r requirements.txt (line 8)) (3.7.1)\n",
            "Requirement already satisfied: scikit-image in /usr/local/lib/python3.10/dist-packages (from -r requirements.txt (line 9)) (0.19.3)\n",
            "Requirement already satisfied: torch>=1.7.1 in /usr/local/lib/python3.10/dist-packages (from -r requirements.txt (line 10)) (2.1.0+cu118)\n",
            "Requirement already satisfied: torchvision>=0.8.2 in /usr/local/lib/python3.10/dist-packages (from -r requirements.txt (line 11)) (0.16.0+cu118)\n",
            "Requirement already satisfied: imageio-ffmpeg in /usr/local/lib/python3.10/dist-packages (from -r requirements.txt (line 12)) (0.4.9)\n",
            "Requirement already satisfied: pyyaml in /usr/local/lib/python3.10/dist-packages (from -r requirements.txt (line 13)) (6.0.1)\n",
            "Requirement already satisfied: requests in /usr/local/lib/python3.10/dist-packages (from -r requirements.txt (line 14)) (2.31.0)\n",
            "Requirement already satisfied: timm in /usr/local/lib/python3.10/dist-packages (from -r requirements.txt (line 15)) (0.9.12)\n",
            "Collecting yapf (from -r requirements.txt (line 16))\n",
            "  Downloading yapf-0.40.2-py3-none-any.whl (254 kB)\n",
            "\u001b[2K     \u001b[90m━━━━━━━━━━━━━━━━━━━━━━━━━━━━━━━━━━━━━━━━\u001b[0m \u001b[32m254.7/254.7 kB\u001b[0m \u001b[31m4.7 MB/s\u001b[0m eta \u001b[36m0:00:00\u001b[0m\n",
            "\u001b[?25hRequirement already satisfied: contourpy>=1.0.1 in /usr/local/lib/python3.10/dist-packages (from matplotlib->-r requirements.txt (line 8)) (1.2.0)\n",
            "Requirement already satisfied: cycler>=0.10 in /usr/local/lib/python3.10/dist-packages (from matplotlib->-r requirements.txt (line 8)) (0.12.1)\n",
            "Requirement already satisfied: fonttools>=4.22.0 in /usr/local/lib/python3.10/dist-packages (from matplotlib->-r requirements.txt (line 8)) (4.45.1)\n",
            "Requirement already satisfied: kiwisolver>=1.0.1 in /usr/local/lib/python3.10/dist-packages (from matplotlib->-r requirements.txt (line 8)) (1.4.5)\n",
            "Requirement already satisfied: packaging>=20.0 in /usr/local/lib/python3.10/dist-packages (from matplotlib->-r requirements.txt (line 8)) (23.2)\n",
            "Requirement already satisfied: pillow>=6.2.0 in /usr/local/lib/python3.10/dist-packages (from matplotlib->-r requirements.txt (line 8)) (9.4.0)\n",
            "Requirement already satisfied: pyparsing>=2.3.1 in /usr/local/lib/python3.10/dist-packages (from matplotlib->-r requirements.txt (line 8)) (3.1.1)\n",
            "Requirement already satisfied: python-dateutil>=2.7 in /usr/local/lib/python3.10/dist-packages (from matplotlib->-r requirements.txt (line 8)) (2.8.2)\n",
            "Requirement already satisfied: networkx>=2.2 in /usr/local/lib/python3.10/dist-packages (from scikit-image->-r requirements.txt (line 9)) (3.2.1)\n",
            "Requirement already satisfied: imageio>=2.4.1 in /usr/local/lib/python3.10/dist-packages (from scikit-image->-r requirements.txt (line 9)) (2.31.6)\n",
            "Requirement already satisfied: tifffile>=2019.7.26 in /usr/local/lib/python3.10/dist-packages (from scikit-image->-r requirements.txt (line 9)) (2023.9.26)\n",
            "Requirement already satisfied: PyWavelets>=1.1.1 in /usr/local/lib/python3.10/dist-packages (from scikit-image->-r requirements.txt (line 9)) (1.5.0)\n",
            "Requirement already satisfied: filelock in /usr/local/lib/python3.10/dist-packages (from torch>=1.7.1->-r requirements.txt (line 10)) (3.13.1)\n",
            "Requirement already satisfied: typing-extensions in /usr/local/lib/python3.10/dist-packages (from torch>=1.7.1->-r requirements.txt (line 10)) (4.5.0)\n",
            "Requirement already satisfied: sympy in /usr/local/lib/python3.10/dist-packages (from torch>=1.7.1->-r requirements.txt (line 10)) (1.12)\n",
            "Requirement already satisfied: jinja2 in /usr/local/lib/python3.10/dist-packages (from torch>=1.7.1->-r requirements.txt (line 10)) (3.1.2)\n",
            "Requirement already satisfied: fsspec in /usr/local/lib/python3.10/dist-packages (from torch>=1.7.1->-r requirements.txt (line 10)) (2023.6.0)\n",
            "Requirement already satisfied: triton==2.1.0 in /usr/local/lib/python3.10/dist-packages (from torch>=1.7.1->-r requirements.txt (line 10)) (2.1.0)\n",
            "Requirement already satisfied: setuptools in /usr/local/lib/python3.10/dist-packages (from imageio-ffmpeg->-r requirements.txt (line 12)) (67.7.2)\n",
            "Requirement already satisfied: charset-normalizer<4,>=2 in /usr/local/lib/python3.10/dist-packages (from requests->-r requirements.txt (line 14)) (3.3.2)\n",
            "Requirement already satisfied: idna<4,>=2.5 in /usr/local/lib/python3.10/dist-packages (from requests->-r requirements.txt (line 14)) (3.6)\n",
            "Requirement already satisfied: urllib3<3,>=1.21.1 in /usr/local/lib/python3.10/dist-packages (from requests->-r requirements.txt (line 14)) (2.0.7)\n",
            "Requirement already satisfied: certifi>=2017.4.17 in /usr/local/lib/python3.10/dist-packages (from requests->-r requirements.txt (line 14)) (2023.11.17)\n",
            "Requirement already satisfied: huggingface-hub in /usr/local/lib/python3.10/dist-packages (from timm->-r requirements.txt (line 15)) (0.19.4)\n",
            "Requirement already satisfied: safetensors in /usr/local/lib/python3.10/dist-packages (from timm->-r requirements.txt (line 15)) (0.4.1)\n",
            "Requirement already satisfied: importlib-metadata>=6.6.0 in /usr/local/lib/python3.10/dist-packages (from yapf->-r requirements.txt (line 16)) (6.8.0)\n",
            "Requirement already satisfied: platformdirs>=3.5.1 in /usr/local/lib/python3.10/dist-packages (from yapf->-r requirements.txt (line 16)) (4.0.0)\n",
            "Requirement already satisfied: tomli>=2.0.1 in /usr/local/lib/python3.10/dist-packages (from yapf->-r requirements.txt (line 16)) (2.0.1)\n",
            "Requirement already satisfied: zipp>=0.5 in /usr/local/lib/python3.10/dist-packages (from importlib-metadata>=6.6.0->yapf->-r requirements.txt (line 16)) (3.17.0)\n",
            "Requirement already satisfied: six>=1.5 in /usr/local/lib/python3.10/dist-packages (from python-dateutil>=2.7->matplotlib->-r requirements.txt (line 8)) (1.16.0)\n",
            "Requirement already satisfied: tqdm>=4.42.1 in /usr/local/lib/python3.10/dist-packages (from huggingface-hub->timm->-r requirements.txt (line 15)) (4.66.1)\n",
            "Requirement already satisfied: MarkupSafe>=2.0 in /usr/local/lib/python3.10/dist-packages (from jinja2->torch>=1.7.1->-r requirements.txt (line 10)) (2.1.3)\n",
            "Requirement already satisfied: mpmath>=0.19 in /usr/local/lib/python3.10/dist-packages (from sympy->torch>=1.7.1->-r requirements.txt (line 10)) (1.3.0)\n",
            "Installing collected packages: addict, yapf\n",
            "Successfully installed addict-2.4.0 yapf-0.40.2\n"
          ]
        }
      ]
    },
    {
      "cell_type": "code",
      "source": [
        "!pwd&&ls"
      ],
      "metadata": {
        "colab": {
          "base_uri": "https://localhost:8080/"
        },
        "id": "hZiyXDs0qbaW",
        "outputId": "a23c5ecc-d79d-4d4e-eee7-89dc5cb21f51"
      },
      "execution_count": 8,
      "outputs": [
        {
          "output_type": "stream",
          "name": "stdout",
          "text": [
            "/content/ProPainter\n",
            "assets\t datasets\t\t  LICENSE  README.md\t     train.py\tweights\n",
            "configs  inference_propainter.py  model    requirements.txt  utils\n",
            "core\t inputs\t\t\t  RAFT\t   scripts\t     web-demos\n"
          ]
        }
      ]
    },
    {
      "cell_type": "code",
      "source": [
        "!mkdir -p inputs/object_removal/1 inputs/object_removal/1_mask"
      ],
      "metadata": {
        "id": "o-pbHctyYU-3"
      },
      "execution_count": 9,
      "outputs": []
    },
    {
      "cell_type": "code",
      "source": [
        "!mkdir -p inputs/object_removal/2 inputs/object_removal/2_mask"
      ],
      "metadata": {
        "id": "iuwCh_0OYrj6"
      },
      "execution_count": 10,
      "outputs": []
    },
    {
      "cell_type": "code",
      "source": [
        "!mkdir -p inputs/object_removal/3 inputs/object_removal/3_mask"
      ],
      "metadata": {
        "id": "zJpQjcjnYrwp"
      },
      "execution_count": 11,
      "outputs": []
    },
    {
      "cell_type": "code",
      "source": [
        "!mkdir -p inputs/object_removal/4 inputs/object_removal/4_mask"
      ],
      "metadata": {
        "id": "dKBg9QmkYr7H"
      },
      "execution_count": 12,
      "outputs": []
    },
    {
      "cell_type": "code",
      "source": [
        "!mkdir -p inputs/object_removal/5 inputs/object_removal/5_mask"
      ],
      "metadata": {
        "id": "p7nPUNRvYsF0"
      },
      "execution_count": 13,
      "outputs": []
    },
    {
      "cell_type": "code",
      "source": [
        "%cd /content/ProPainter/inputs/object_removal/1_mask\n",
        "!ls\n",
        "!unzip 337218362_pred_mask.zip"
      ],
      "metadata": {
        "colab": {
          "base_uri": "https://localhost:8080/"
        },
        "id": "GRIz6rQbZ3Dl",
        "outputId": "cd97c49e-15ad-4a58-ff2d-82bc70b3e87d"
      },
      "execution_count": 22,
      "outputs": [
        {
          "output_type": "stream",
          "name": "stdout",
          "text": [
            "/content/ProPainter/inputs/object_removal/1_mask\n",
            "337218362_pred_mask.zip\n",
            "Archive:  337218362_pred_mask.zip\n",
            "   creating: content/Segment-and-Track-Anything/tracking_results/337218362/337218362_masks/\n",
            "  inflating: content/Segment-and-Track-Anything/tracking_results/337218362/337218362_masks/00101.png  \n",
            "  inflating: content/Segment-and-Track-Anything/tracking_results/337218362/337218362_masks/00011.png  \n",
            "  inflating: content/Segment-and-Track-Anything/tracking_results/337218362/337218362_masks/00021.png  \n",
            "  inflating: content/Segment-and-Track-Anything/tracking_results/337218362/337218362_masks/00081.png  \n",
            "  inflating: content/Segment-and-Track-Anything/tracking_results/337218362/337218362_masks/00090.png  \n",
            "  inflating: content/Segment-and-Track-Anything/tracking_results/337218362/337218362_masks/00042.png  \n",
            "  inflating: content/Segment-and-Track-Anything/tracking_results/337218362/337218362_masks/00032.png  \n",
            "  inflating: content/Segment-and-Track-Anything/tracking_results/337218362/337218362_masks/00026.png  \n",
            "  inflating: content/Segment-and-Track-Anything/tracking_results/337218362/337218362_masks/00025.png  \n",
            "  inflating: content/Segment-and-Track-Anything/tracking_results/337218362/337218362_masks/00064.png  \n",
            "  inflating: content/Segment-and-Track-Anything/tracking_results/337218362/337218362_masks/00047.png  \n",
            "  inflating: content/Segment-and-Track-Anything/tracking_results/337218362/337218362_masks/00065.png  \n",
            "  inflating: content/Segment-and-Track-Anything/tracking_results/337218362/337218362_masks/00078.png  \n",
            "  inflating: content/Segment-and-Track-Anything/tracking_results/337218362/337218362_masks/00012.png  \n",
            "  inflating: content/Segment-and-Track-Anything/tracking_results/337218362/337218362_masks/00033.png  \n",
            "  inflating: content/Segment-and-Track-Anything/tracking_results/337218362/337218362_masks/00002.png  \n",
            "  inflating: content/Segment-and-Track-Anything/tracking_results/337218362/337218362_masks/00043.png  \n",
            "  inflating: content/Segment-and-Track-Anything/tracking_results/337218362/337218362_masks/00022.png  \n",
            "  inflating: content/Segment-and-Track-Anything/tracking_results/337218362/337218362_masks/00039.png  \n",
            "  inflating: content/Segment-and-Track-Anything/tracking_results/337218362/337218362_masks/00007.png  \n",
            "  inflating: content/Segment-and-Track-Anything/tracking_results/337218362/337218362_masks/00099.png  \n",
            "  inflating: content/Segment-and-Track-Anything/tracking_results/337218362/337218362_masks/00049.png  \n",
            "  inflating: content/Segment-and-Track-Anything/tracking_results/337218362/337218362_masks/00102.png  \n",
            "  inflating: content/Segment-and-Track-Anything/tracking_results/337218362/337218362_masks/00076.png  \n",
            "  inflating: content/Segment-and-Track-Anything/tracking_results/337218362/337218362_masks/00061.png  \n",
            "  inflating: content/Segment-and-Track-Anything/tracking_results/337218362/337218362_masks/00073.png  \n",
            "  inflating: content/Segment-and-Track-Anything/tracking_results/337218362/337218362_masks/00062.png  \n",
            "  inflating: content/Segment-and-Track-Anything/tracking_results/337218362/337218362_masks/00114.png  \n",
            "  inflating: content/Segment-and-Track-Anything/tracking_results/337218362/337218362_masks/00050.png  \n",
            "  inflating: content/Segment-and-Track-Anything/tracking_results/337218362/337218362_masks/00091.png  \n",
            "  inflating: content/Segment-and-Track-Anything/tracking_results/337218362/337218362_masks/00041.png  \n",
            "  inflating: content/Segment-and-Track-Anything/tracking_results/337218362/337218362_masks/00088.png  \n",
            "  inflating: content/Segment-and-Track-Anything/tracking_results/337218362/337218362_masks/00052.png  \n",
            "  inflating: content/Segment-and-Track-Anything/tracking_results/337218362/337218362_masks/00112.png  \n",
            "  inflating: content/Segment-and-Track-Anything/tracking_results/337218362/337218362_masks/00019.png  \n",
            "  inflating: content/Segment-and-Track-Anything/tracking_results/337218362/337218362_masks/00034.png  \n",
            "  inflating: content/Segment-and-Track-Anything/tracking_results/337218362/337218362_masks/00067.png  \n",
            "  inflating: content/Segment-and-Track-Anything/tracking_results/337218362/337218362_masks/00093.png  \n",
            "  inflating: content/Segment-and-Track-Anything/tracking_results/337218362/337218362_masks/00031.png  \n",
            "  inflating: content/Segment-and-Track-Anything/tracking_results/337218362/337218362_masks/00051.png  \n",
            "  inflating: content/Segment-and-Track-Anything/tracking_results/337218362/337218362_masks/00027.png  \n",
            "  inflating: content/Segment-and-Track-Anything/tracking_results/337218362/337218362_masks/00030.png  \n",
            "  inflating: content/Segment-and-Track-Anything/tracking_results/337218362/337218362_masks/00071.png  \n",
            "  inflating: content/Segment-and-Track-Anything/tracking_results/337218362/337218362_masks/00106.png  \n",
            "  inflating: content/Segment-and-Track-Anything/tracking_results/337218362/337218362_masks/00113.png  \n",
            "  inflating: content/Segment-and-Track-Anything/tracking_results/337218362/337218362_masks/00100.png  \n",
            "  inflating: content/Segment-and-Track-Anything/tracking_results/337218362/337218362_masks/00087.png  \n",
            "  inflating: content/Segment-and-Track-Anything/tracking_results/337218362/337218362_masks/00108.png  \n",
            "  inflating: content/Segment-and-Track-Anything/tracking_results/337218362/337218362_masks/00070.png  \n",
            "  inflating: content/Segment-and-Track-Anything/tracking_results/337218362/337218362_masks/00063.png  \n",
            "  inflating: content/Segment-and-Track-Anything/tracking_results/337218362/337218362_masks/00058.png  \n",
            "  inflating: content/Segment-and-Track-Anything/tracking_results/337218362/337218362_masks/00013.png  \n",
            "  inflating: content/Segment-and-Track-Anything/tracking_results/337218362/337218362_masks/00057.png  \n",
            "  inflating: content/Segment-and-Track-Anything/tracking_results/337218362/337218362_masks/00054.png  \n",
            "  inflating: content/Segment-and-Track-Anything/tracking_results/337218362/337218362_masks/00017.png  \n",
            "  inflating: content/Segment-and-Track-Anything/tracking_results/337218362/337218362_masks/00056.png  \n",
            "  inflating: content/Segment-and-Track-Anything/tracking_results/337218362/337218362_masks/00016.png  \n",
            "  inflating: content/Segment-and-Track-Anything/tracking_results/337218362/337218362_masks/00096.png  \n",
            "  inflating: content/Segment-and-Track-Anything/tracking_results/337218362/337218362_masks/00018.png  \n",
            "  inflating: content/Segment-and-Track-Anything/tracking_results/337218362/337218362_masks/00024.png  \n",
            "  inflating: content/Segment-and-Track-Anything/tracking_results/337218362/337218362_masks/00074.png  \n",
            "  inflating: content/Segment-and-Track-Anything/tracking_results/337218362/337218362_masks/00015.png  \n",
            "  inflating: content/Segment-and-Track-Anything/tracking_results/337218362/337218362_masks/00006.png  \n",
            "  inflating: content/Segment-and-Track-Anything/tracking_results/337218362/337218362_masks/00005.png  \n",
            "  inflating: content/Segment-and-Track-Anything/tracking_results/337218362/337218362_masks/00003.png  \n",
            "  inflating: content/Segment-and-Track-Anything/tracking_results/337218362/337218362_masks/00008.png  \n",
            "  inflating: content/Segment-and-Track-Anything/tracking_results/337218362/337218362_masks/00029.png  \n",
            "  inflating: content/Segment-and-Track-Anything/tracking_results/337218362/337218362_masks/00059.png  \n",
            "  inflating: content/Segment-and-Track-Anything/tracking_results/337218362/337218362_masks/00036.png  \n",
            "  inflating: content/Segment-and-Track-Anything/tracking_results/337218362/337218362_masks/00009.png  \n",
            "  inflating: content/Segment-and-Track-Anything/tracking_results/337218362/337218362_masks/00092.png  \n",
            "  inflating: content/Segment-and-Track-Anything/tracking_results/337218362/337218362_masks/00014.png  \n",
            "  inflating: content/Segment-and-Track-Anything/tracking_results/337218362/337218362_masks/00082.png  \n",
            "  inflating: content/Segment-and-Track-Anything/tracking_results/337218362/337218362_masks/00095.png  \n",
            "  inflating: content/Segment-and-Track-Anything/tracking_results/337218362/337218362_masks/00084.png  \n",
            "  inflating: content/Segment-and-Track-Anything/tracking_results/337218362/337218362_masks/00068.png  \n",
            "  inflating: content/Segment-and-Track-Anything/tracking_results/337218362/337218362_masks/00060.png  \n",
            "  inflating: content/Segment-and-Track-Anything/tracking_results/337218362/337218362_masks/00001.png  \n",
            "  inflating: content/Segment-and-Track-Anything/tracking_results/337218362/337218362_masks/00077.png  \n",
            "  inflating: content/Segment-and-Track-Anything/tracking_results/337218362/337218362_masks/00079.png  \n",
            "  inflating: content/Segment-and-Track-Anything/tracking_results/337218362/337218362_masks/00020.png  \n",
            "  inflating: content/Segment-and-Track-Anything/tracking_results/337218362/337218362_masks/00053.png  \n",
            "  inflating: content/Segment-and-Track-Anything/tracking_results/337218362/337218362_masks/00104.png  \n",
            "  inflating: content/Segment-and-Track-Anything/tracking_results/337218362/337218362_masks/00046.png  \n",
            "  inflating: content/Segment-and-Track-Anything/tracking_results/337218362/337218362_masks/00069.png  \n",
            "  inflating: content/Segment-and-Track-Anything/tracking_results/337218362/337218362_masks/00100_new.png  \n",
            "  inflating: content/Segment-and-Track-Anything/tracking_results/337218362/337218362_masks/00035.png  \n",
            "  inflating: content/Segment-and-Track-Anything/tracking_results/337218362/337218362_masks/00038.png  \n",
            "  inflating: content/Segment-and-Track-Anything/tracking_results/337218362/337218362_masks/00072.png  \n",
            "  inflating: content/Segment-and-Track-Anything/tracking_results/337218362/337218362_masks/00089.png  \n",
            "  inflating: content/Segment-and-Track-Anything/tracking_results/337218362/337218362_masks/00085.png  \n",
            "  inflating: content/Segment-and-Track-Anything/tracking_results/337218362/337218362_masks/00044.png  \n",
            "  inflating: content/Segment-and-Track-Anything/tracking_results/337218362/337218362_masks/00023.png  \n",
            "  inflating: content/Segment-and-Track-Anything/tracking_results/337218362/337218362_masks/00094.png  \n",
            "  inflating: content/Segment-and-Track-Anything/tracking_results/337218362/337218362_masks/00004.png  \n",
            "  inflating: content/Segment-and-Track-Anything/tracking_results/337218362/337218362_masks/00083.png  \n",
            "  inflating: content/Segment-and-Track-Anything/tracking_results/337218362/337218362_masks/00075.png  \n",
            "  inflating: content/Segment-and-Track-Anything/tracking_results/337218362/337218362_masks/00098.png  \n",
            "  inflating: content/Segment-and-Track-Anything/tracking_results/337218362/337218362_masks/00055.png  \n",
            "  inflating: content/Segment-and-Track-Anything/tracking_results/337218362/337218362_masks/00109.png  \n",
            "  inflating: content/Segment-and-Track-Anything/tracking_results/337218362/337218362_masks/00103.png  \n",
            "  inflating: content/Segment-and-Track-Anything/tracking_results/337218362/337218362_masks/00037.png  \n",
            "  inflating: content/Segment-and-Track-Anything/tracking_results/337218362/337218362_masks/00111.png  \n",
            "  inflating: content/Segment-and-Track-Anything/tracking_results/337218362/337218362_masks/00000.png  \n",
            "  inflating: content/Segment-and-Track-Anything/tracking_results/337218362/337218362_masks/00080.png  \n",
            "  inflating: content/Segment-and-Track-Anything/tracking_results/337218362/337218362_masks/00107.png  \n",
            "  inflating: content/Segment-and-Track-Anything/tracking_results/337218362/337218362_masks/00086.png  \n",
            "  inflating: content/Segment-and-Track-Anything/tracking_results/337218362/337218362_masks/00045.png  \n",
            "  inflating: content/Segment-and-Track-Anything/tracking_results/337218362/337218362_masks/00010.png  \n",
            "  inflating: content/Segment-and-Track-Anything/tracking_results/337218362/337218362_masks/00066.png  \n",
            "  inflating: content/Segment-and-Track-Anything/tracking_results/337218362/337218362_masks/00105.png  \n",
            "  inflating: content/Segment-and-Track-Anything/tracking_results/337218362/337218362_masks/00097.png  \n",
            "  inflating: content/Segment-and-Track-Anything/tracking_results/337218362/337218362_masks/00028.png  \n",
            "  inflating: content/Segment-and-Track-Anything/tracking_results/337218362/337218362_masks/00110.png  \n",
            "  inflating: content/Segment-and-Track-Anything/tracking_results/337218362/337218362_masks/00040.png  \n",
            "  inflating: content/Segment-and-Track-Anything/tracking_results/337218362/337218362_masks/00048.png  \n",
            "^C\n"
          ]
        }
      ]
    },
    {
      "cell_type": "code",
      "source": [
        "!pwd\n",
        "!ls\n",
        "%cd content\n",
        "!pwd\n",
        "!ls\n",
        "%cd content\n",
        "!pwd\n",
        "!ls"
      ],
      "metadata": {
        "colab": {
          "base_uri": "https://localhost:8080/"
        },
        "id": "-Gm9nZakbE0V",
        "outputId": "36371404-0d66-47ff-fd9f-84524748f07a"
      },
      "execution_count": 26,
      "outputs": [
        {
          "output_type": "stream",
          "name": "stdout",
          "text": [
            "/content/ProPainter/inputs/object_removal/1_mask\n",
            "337218362_pred_mask.zip  content\n",
            "/content/ProPainter/inputs/object_removal/1_mask/content\n",
            "/content/ProPainter/inputs/object_removal/1_mask/content\n",
            "Segment-and-Track-Anything\n"
          ]
        }
      ]
    },
    {
      "cell_type": "code",
      "source": [
        "%cd /content/ProPainter/inputs/object_removal/2_mask\n",
        "!ls\n",
        "!unzip 514114609_pred_mask\n"
      ],
      "metadata": {
        "colab": {
          "base_uri": "https://localhost:8080/"
        },
        "id": "u3GT8rbtbj_t",
        "outputId": "618f176c-1b0d-41dd-b5d2-bdd7f46aadea"
      },
      "execution_count": 27,
      "outputs": [
        {
          "output_type": "stream",
          "name": "stdout",
          "text": [
            "/content/ProPainter/inputs/object_removal/2_mask\n",
            "514114609_pred_mask.zip\n",
            "Archive:  514114609_pred_mask.zip\n",
            "   creating: content/Segment-and-Track-Anything/tracking_results/514114609/514114609_masks/\n",
            "  inflating: content/Segment-and-Track-Anything/tracking_results/514114609/514114609_masks/00325.png  \n",
            "  inflating: content/Segment-and-Track-Anything/tracking_results/514114609/514114609_masks/00269.png  \n",
            "  inflating: content/Segment-and-Track-Anything/tracking_results/514114609/514114609_masks/00101.png  \n",
            "  inflating: content/Segment-and-Track-Anything/tracking_results/514114609/514114609_masks/00201.png  \n",
            "  inflating: content/Segment-and-Track-Anything/tracking_results/514114609/514114609_masks/00011.png  \n",
            "  inflating: content/Segment-and-Track-Anything/tracking_results/514114609/514114609_masks/00212.png  \n",
            "  inflating: content/Segment-and-Track-Anything/tracking_results/514114609/514114609_masks/00290.png  \n",
            "  inflating: content/Segment-and-Track-Anything/tracking_results/514114609/514114609_masks/00021.png  \n",
            "  inflating: content/Segment-and-Track-Anything/tracking_results/514114609/514114609_masks/00081.png  \n",
            "  inflating: content/Segment-and-Track-Anything/tracking_results/514114609/514114609_masks/00216.png  \n",
            "  inflating: content/Segment-and-Track-Anything/tracking_results/514114609/514114609_masks/00185.png  \n",
            "  inflating: content/Segment-and-Track-Anything/tracking_results/514114609/514114609_masks/00233.png  \n",
            "  inflating: content/Segment-and-Track-Anything/tracking_results/514114609/514114609_masks/00090.png  \n",
            "  inflating: content/Segment-and-Track-Anything/tracking_results/514114609/514114609_masks/00343.png  \n",
            "  inflating: content/Segment-and-Track-Anything/tracking_results/514114609/514114609_masks/00142.png  \n",
            "  inflating: content/Segment-and-Track-Anything/tracking_results/514114609/514114609_masks/00173.png  \n",
            "  inflating: content/Segment-and-Track-Anything/tracking_results/514114609/514114609_masks/00042.png  \n",
            "  inflating: content/Segment-and-Track-Anything/tracking_results/514114609/514114609_masks/00184.png  \n",
            "  inflating: content/Segment-and-Track-Anything/tracking_results/514114609/514114609_masks/00032.png  \n",
            "  inflating: content/Segment-and-Track-Anything/tracking_results/514114609/514114609_masks/00274.png  \n",
            "  inflating: content/Segment-and-Track-Anything/tracking_results/514114609/514114609_masks/00288.png  \n",
            "  inflating: content/Segment-and-Track-Anything/tracking_results/514114609/514114609_masks/00401.png  \n",
            "  inflating: content/Segment-and-Track-Anything/tracking_results/514114609/514114609_masks/00222.png  \n",
            "  inflating: content/Segment-and-Track-Anything/tracking_results/514114609/514114609_masks/00194.png  \n",
            "  inflating: content/Segment-and-Track-Anything/tracking_results/514114609/514114609_masks/00026.png  \n",
            "  inflating: content/Segment-and-Track-Anything/tracking_results/514114609/514114609_masks/00221.png  \n",
            "  inflating: content/Segment-and-Track-Anything/tracking_results/514114609/514114609_masks/00347.png  \n",
            "  inflating: content/Segment-and-Track-Anything/tracking_results/514114609/514114609_masks/00250.png  \n",
            "  inflating: content/Segment-and-Track-Anything/tracking_results/514114609/514114609_masks/00349.png  \n",
            "  inflating: content/Segment-and-Track-Anything/tracking_results/514114609/514114609_masks/00394.png  \n",
            "  inflating: content/Segment-and-Track-Anything/tracking_results/514114609/514114609_masks/00418.png  \n",
            "  inflating: content/Segment-and-Track-Anything/tracking_results/514114609/514114609_masks/00327.png  \n",
            "  inflating: content/Segment-and-Track-Anything/tracking_results/514114609/514114609_masks/00025.png  \n",
            "  inflating: content/Segment-and-Track-Anything/tracking_results/514114609/514114609_masks/00064.png  \n",
            "  inflating: content/Segment-and-Track-Anything/tracking_results/514114609/514114609_masks/00047.png  \n",
            "  inflating: content/Segment-and-Track-Anything/tracking_results/514114609/514114609_masks/00065.png  \n",
            "  inflating: content/Segment-and-Track-Anything/tracking_results/514114609/514114609_masks/00078.png  \n",
            "  inflating: content/Segment-and-Track-Anything/tracking_results/514114609/514114609_masks/00308.png  \n",
            "  inflating: content/Segment-and-Track-Anything/tracking_results/514114609/514114609_masks/00012.png  \n",
            "  inflating: content/Segment-and-Track-Anything/tracking_results/514114609/514114609_masks/00245.png  \n",
            "  inflating: content/Segment-and-Track-Anything/tracking_results/514114609/514114609_masks/00033.png  \n",
            "  inflating: content/Segment-and-Track-Anything/tracking_results/514114609/514114609_masks/00150.png  \n",
            "  inflating: content/Segment-and-Track-Anything/tracking_results/514114609/514114609_masks/00179.png  \n",
            "  inflating: content/Segment-and-Track-Anything/tracking_results/514114609/514114609_masks/00213.png  \n",
            "  inflating: content/Segment-and-Track-Anything/tracking_results/514114609/514114609_masks/00002.png  \n",
            "  inflating: content/Segment-and-Track-Anything/tracking_results/514114609/514114609_masks/00304.png  \n",
            "  inflating: content/Segment-and-Track-Anything/tracking_results/514114609/514114609_masks/00043.png  \n",
            "  inflating: content/Segment-and-Track-Anything/tracking_results/514114609/514114609_masks/00022.png  \n",
            "  inflating: content/Segment-and-Track-Anything/tracking_results/514114609/514114609_masks/00252.png  \n",
            "  inflating: content/Segment-and-Track-Anything/tracking_results/514114609/514114609_masks/00302.png  \n",
            "  inflating: content/Segment-and-Track-Anything/tracking_results/514114609/514114609_masks/00199.png  \n",
            "  inflating: content/Segment-and-Track-Anything/tracking_results/514114609/514114609_masks/00039.png  \n",
            "  inflating: content/Segment-and-Track-Anything/tracking_results/514114609/514114609_masks/00007.png  \n",
            "  inflating: content/Segment-and-Track-Anything/tracking_results/514114609/514114609_masks/00306.png  \n",
            "  inflating: content/Segment-and-Track-Anything/tracking_results/514114609/514114609_masks/00148.png  \n",
            "  inflating: content/Segment-and-Track-Anything/tracking_results/514114609/514114609_masks/00099.png  \n",
            "  inflating: content/Segment-and-Track-Anything/tracking_results/514114609/514114609_masks/00181.png  \n",
            "  inflating: content/Segment-and-Track-Anything/tracking_results/514114609/514114609_masks/00296.png  \n",
            "  inflating: content/Segment-and-Track-Anything/tracking_results/514114609/514114609_masks/00310.png  \n",
            "  inflating: content/Segment-and-Track-Anything/tracking_results/514114609/514114609_masks/00133.png  \n",
            "  inflating: content/Segment-and-Track-Anything/tracking_results/514114609/514114609_masks/00210.png  \n",
            "  inflating: content/Segment-and-Track-Anything/tracking_results/514114609/514114609_masks/00049.png  \n",
            "  inflating: content/Segment-and-Track-Anything/tracking_results/514114609/514114609_masks/00115.png  \n",
            "  inflating: content/Segment-and-Track-Anything/tracking_results/514114609/514114609_masks/00279.png  \n",
            "  inflating: content/Segment-and-Track-Anything/tracking_results/514114609/514114609_masks/00237.png  \n",
            "  inflating: content/Segment-and-Track-Anything/tracking_results/514114609/514114609_masks/00335.png  \n",
            "  inflating: content/Segment-and-Track-Anything/tracking_results/514114609/514114609_masks/00149.png  \n",
            "  inflating: content/Segment-and-Track-Anything/tracking_results/514114609/514114609_masks/00126.png  \n",
            "  inflating: content/Segment-and-Track-Anything/tracking_results/514114609/514114609_masks/00154.png  \n",
            "  inflating: content/Segment-and-Track-Anything/tracking_results/514114609/514114609_masks/00268.png  \n",
            "  inflating: content/Segment-and-Track-Anything/tracking_results/514114609/514114609_masks/00102.png  \n",
            "  inflating: content/Segment-and-Track-Anything/tracking_results/514114609/514114609_masks/00273.png  \n",
            "  inflating: content/Segment-and-Track-Anything/tracking_results/514114609/514114609_masks/00225.png  \n",
            "  inflating: content/Segment-and-Track-Anything/tracking_results/514114609/514114609_masks/00076.png  \n",
            "  inflating: content/Segment-and-Track-Anything/tracking_results/514114609/514114609_masks/00275.png  \n",
            "  inflating: content/Segment-and-Track-Anything/tracking_results/514114609/514114609_masks/00284.png  \n",
            "  inflating: content/Segment-and-Track-Anything/tracking_results/514114609/514114609_masks/00328.png  \n",
            "  inflating: content/Segment-and-Track-Anything/tracking_results/514114609/514114609_masks/00412.png  \n",
            "  inflating: content/Segment-and-Track-Anything/tracking_results/514114609/514114609_masks/00265.png  \n",
            "  inflating: content/Segment-and-Track-Anything/tracking_results/514114609/514114609_masks/00396.png  \n",
            "  inflating: content/Segment-and-Track-Anything/tracking_results/514114609/514114609_masks/00282.png  \n",
            "  inflating: content/Segment-and-Track-Anything/tracking_results/514114609/514114609_masks/00061.png  \n",
            "  inflating: content/Segment-and-Track-Anything/tracking_results/514114609/514114609_masks/00236.png  \n",
            "  inflating: content/Segment-and-Track-Anything/tracking_results/514114609/514114609_masks/00202.png  \n",
            "  inflating: content/Segment-and-Track-Anything/tracking_results/514114609/514114609_masks/00146.png  \n",
            "  inflating: content/Segment-and-Track-Anything/tracking_results/514114609/514114609_masks/00314.png  \n",
            "  inflating: content/Segment-and-Track-Anything/tracking_results/514114609/514114609_masks/00333.png  \n",
            "  inflating: content/Segment-and-Track-Anything/tracking_results/514114609/514114609_masks/00188.png  \n",
            "  inflating: content/Segment-and-Track-Anything/tracking_results/514114609/514114609_masks/00313.png  \n",
            "  inflating: content/Segment-and-Track-Anything/tracking_results/514114609/514114609_masks/00073.png  \n",
            "  inflating: content/Segment-and-Track-Anything/tracking_results/514114609/514114609_masks/00062.png  \n",
            "  inflating: content/Segment-and-Track-Anything/tracking_results/514114609/514114609_masks/00376.png  \n",
            "  inflating: content/Segment-and-Track-Anything/tracking_results/514114609/514114609_masks/00147.png  \n",
            "  inflating: content/Segment-and-Track-Anything/tracking_results/514114609/514114609_masks/00400.png  \n",
            "  inflating: content/Segment-and-Track-Anything/tracking_results/514114609/514114609_masks/00305.png  \n",
            "  inflating: content/Segment-and-Track-Anything/tracking_results/514114609/514114609_masks/00178.png  \n",
            "  inflating: content/Segment-and-Track-Anything/tracking_results/514114609/514114609_masks/00114.png  \n",
            "  inflating: content/Segment-and-Track-Anything/tracking_results/514114609/514114609_masks/00050.png  \n",
            "  inflating: content/Segment-and-Track-Anything/tracking_results/514114609/514114609_masks/00158.png  \n",
            "  inflating: content/Segment-and-Track-Anything/tracking_results/514114609/514114609_masks/00242.png  \n",
            "  inflating: content/Segment-and-Track-Anything/tracking_results/514114609/514114609_masks/00091.png  \n",
            "  inflating: content/Segment-and-Track-Anything/tracking_results/514114609/514114609_masks/00364.png  \n",
            "  inflating: content/Segment-and-Track-Anything/tracking_results/514114609/514114609_masks/00262.png  \n",
            "  inflating: content/Segment-and-Track-Anything/tracking_results/514114609/514114609_masks/00041.png  \n",
            "  inflating: content/Segment-and-Track-Anything/tracking_results/514114609/514114609_masks/00144.png  \n",
            "  inflating: content/Segment-and-Track-Anything/tracking_results/514114609/514114609_masks/00229.png  \n",
            "  inflating: content/Segment-and-Track-Anything/tracking_results/514114609/514114609_masks/00129.png  \n",
            "  inflating: content/Segment-and-Track-Anything/tracking_results/514114609/514114609_masks/00088.png  \n",
            "  inflating: content/Segment-and-Track-Anything/tracking_results/514114609/514114609_masks/00052.png  \n",
            "  inflating: content/Segment-and-Track-Anything/tracking_results/514114609/514114609_masks/00392.png  \n",
            "  inflating: content/Segment-and-Track-Anything/tracking_results/514114609/514114609_masks/00384.png  \n",
            "  inflating: content/Segment-and-Track-Anything/tracking_results/514114609/514114609_masks/00151.png  \n",
            "  inflating: content/Segment-and-Track-Anything/tracking_results/514114609/514114609_masks/00240.png  \n",
            "  inflating: content/Segment-and-Track-Anything/tracking_results/514114609/514114609_masks/00189.png  \n",
            "  inflating: content/Segment-and-Track-Anything/tracking_results/514114609/514114609_masks/00121.png  \n",
            "  inflating: content/Segment-and-Track-Anything/tracking_results/514114609/514114609_masks/00141.png  \n",
            "  inflating: content/Segment-and-Track-Anything/tracking_results/514114609/514114609_masks/00315.png  \n",
            "  inflating: content/Segment-and-Track-Anything/tracking_results/514114609/514114609_masks/00112.png  \n",
            "  inflating: content/Segment-and-Track-Anything/tracking_results/514114609/514114609_masks/00330.png  \n",
            "  inflating: content/Segment-and-Track-Anything/tracking_results/514114609/514114609_masks/00191.png  \n",
            "  inflating: content/Segment-and-Track-Anything/tracking_results/514114609/514114609_masks/00019.png  \n",
            "  inflating: content/Segment-and-Track-Anything/tracking_results/514114609/514114609_masks/00169.png  \n",
            "  inflating: content/Segment-and-Track-Anything/tracking_results/514114609/514114609_masks/00034.png  \n",
            "  inflating: content/Segment-and-Track-Anything/tracking_results/514114609/514114609_masks/00067.png  \n",
            "  inflating: content/Segment-and-Track-Anything/tracking_results/514114609/514114609_masks/00170.png  \n",
            "  inflating: content/Segment-and-Track-Anything/tracking_results/514114609/514114609_masks/00093.png  \n",
            "  inflating: content/Segment-and-Track-Anything/tracking_results/514114609/514114609_masks/00031.png  \n",
            "  inflating: content/Segment-and-Track-Anything/tracking_results/514114609/514114609_masks/00051.png  \n",
            "  inflating: content/Segment-and-Track-Anything/tracking_results/514114609/514114609_masks/00183.png  \n",
            "  inflating: content/Segment-and-Track-Anything/tracking_results/514114609/514114609_masks/00258.png  \n",
            "  inflating: content/Segment-and-Track-Anything/tracking_results/514114609/514114609_masks/00137.png  \n",
            "  inflating: content/Segment-and-Track-Anything/tracking_results/514114609/514114609_masks/00415.png  \n",
            "  inflating: content/Segment-and-Track-Anything/tracking_results/514114609/514114609_masks/00352.png  \n",
            "  inflating: content/Segment-and-Track-Anything/tracking_results/514114609/514114609_masks/00027.png  \n",
            "  inflating: content/Segment-and-Track-Anything/tracking_results/514114609/514114609_masks/00030.png  \n",
            "  inflating: content/Segment-and-Track-Anything/tracking_results/514114609/514114609_masks/00156.png  \n",
            "  inflating: content/Segment-and-Track-Anything/tracking_results/514114609/514114609_masks/00407.png  \n",
            "  inflating: content/Segment-and-Track-Anything/tracking_results/514114609/514114609_masks/00267.png  \n",
            "  inflating: content/Segment-and-Track-Anything/tracking_results/514114609/514114609_masks/00247.png  \n",
            "  inflating: content/Segment-and-Track-Anything/tracking_results/514114609/514114609_masks/00238.png  \n",
            "  inflating: content/Segment-and-Track-Anything/tracking_results/514114609/514114609_masks/00071.png  \n",
            "  inflating: content/Segment-and-Track-Anything/tracking_results/514114609/514114609_masks/00406.png  \n",
            "  inflating: content/Segment-and-Track-Anything/tracking_results/514114609/514114609_masks/00106.png  \n",
            "  inflating: content/Segment-and-Track-Anything/tracking_results/514114609/514114609_masks/00113.png  \n",
            "  inflating: content/Segment-and-Track-Anything/tracking_results/514114609/514114609_masks/00359.png  \n",
            "  inflating: content/Segment-and-Track-Anything/tracking_results/514114609/514114609_masks/00134.png  \n",
            "  inflating: content/Segment-and-Track-Anything/tracking_results/514114609/514114609_masks/00393.png  \n",
            "  inflating: content/Segment-and-Track-Anything/tracking_results/514114609/514114609_masks/00235.png  \n",
            "  inflating: content/Segment-and-Track-Anything/tracking_results/514114609/514114609_masks/00132.png  \n",
            "  inflating: content/Segment-and-Track-Anything/tracking_results/514114609/514114609_masks/00167.png  \n",
            "  inflating: content/Segment-and-Track-Anything/tracking_results/514114609/514114609_masks/00299.png  \n",
            "  inflating: content/Segment-and-Track-Anything/tracking_results/514114609/514114609_masks/00389.png  \n",
            "  inflating: content/Segment-and-Track-Anything/tracking_results/514114609/514114609_masks/00100.png  \n",
            "  inflating: content/Segment-and-Track-Anything/tracking_results/514114609/514114609_masks/00157.png  \n",
            "  inflating: content/Segment-and-Track-Anything/tracking_results/514114609/514114609_masks/00215.png  \n",
            "  inflating: content/Segment-and-Track-Anything/tracking_results/514114609/514114609_masks/00353.png  \n",
            "  inflating: content/Segment-and-Track-Anything/tracking_results/514114609/514114609_masks/00206.png  \n",
            "  inflating: content/Segment-and-Track-Anything/tracking_results/514114609/514114609_masks/00087.png  \n",
            "  inflating: content/Segment-and-Track-Anything/tracking_results/514114609/514114609_masks/00255.png  \n",
            "  inflating: content/Segment-and-Track-Anything/tracking_results/514114609/514114609_masks/00298.png  \n",
            "  inflating: content/Segment-and-Track-Anything/tracking_results/514114609/514114609_masks/00317.png  \n",
            "  inflating: content/Segment-and-Track-Anything/tracking_results/514114609/514114609_masks/00303.png  \n",
            "  inflating: content/Segment-and-Track-Anything/tracking_results/514114609/514114609_masks/00108.png  \n",
            "  inflating: content/Segment-and-Track-Anything/tracking_results/514114609/514114609_masks/00070.png  \n",
            "  inflating: content/Segment-and-Track-Anything/tracking_results/514114609/514114609_masks/00339.png  \n",
            "  inflating: content/Segment-and-Track-Anything/tracking_results/514114609/514114609_masks/00297.png  \n",
            "  inflating: content/Segment-and-Track-Anything/tracking_results/514114609/514114609_masks/00063.png  \n",
            "  inflating: content/Segment-and-Track-Anything/tracking_results/514114609/514114609_masks/00058.png  \n",
            "  inflating: content/Segment-and-Track-Anything/tracking_results/514114609/514114609_masks/00271.png  \n",
            "  inflating: content/Segment-and-Track-Anything/tracking_results/514114609/514114609_masks/00264.png  \n",
            "  inflating: content/Segment-and-Track-Anything/tracking_results/514114609/514114609_masks/00123.png  \n",
            "  inflating: content/Segment-and-Track-Anything/tracking_results/514114609/514114609_masks/00013.png  \n",
            "  inflating: content/Segment-and-Track-Anything/tracking_results/514114609/514114609_masks/00160.png  \n",
            "  inflating: content/Segment-and-Track-Anything/tracking_results/514114609/514114609_masks/00231.png  \n",
            "  inflating: content/Segment-and-Track-Anything/tracking_results/514114609/514114609_masks/00251.png  \n",
            "  inflating: content/Segment-and-Track-Anything/tracking_results/514114609/514114609_masks/00348.png  \n",
            "  inflating: content/Segment-and-Track-Anything/tracking_results/514114609/514114609_masks/00309.png  \n",
            "  inflating: content/Segment-and-Track-Anything/tracking_results/514114609/514114609_masks/00057.png  \n",
            "  inflating: content/Segment-and-Track-Anything/tracking_results/514114609/514114609_masks/00319.png  \n",
            "  inflating: content/Segment-and-Track-Anything/tracking_results/514114609/514114609_masks/00281.png  \n",
            "  inflating: content/Segment-and-Track-Anything/tracking_results/514114609/514114609_masks/00341.png  \n",
            "  inflating: content/Segment-and-Track-Anything/tracking_results/514114609/514114609_masks/00232.png  \n",
            "  inflating: content/Segment-and-Track-Anything/tracking_results/514114609/514114609_masks/00338.png  \n",
            "  inflating: content/Segment-and-Track-Anything/tracking_results/514114609/514114609_masks/00272.png  \n",
            "  inflating: content/Segment-and-Track-Anything/tracking_results/514114609/514114609_masks/00344.png  \n",
            "  inflating: content/Segment-and-Track-Anything/tracking_results/514114609/514114609_masks/00373.png  \n",
            "  inflating: content/Segment-and-Track-Anything/tracking_results/514114609/514114609_masks/00143.png  \n",
            "  inflating: content/Segment-and-Track-Anything/tracking_results/514114609/514114609_masks/00193.png  \n",
            "  inflating: content/Segment-and-Track-Anything/tracking_results/514114609/514114609_masks/00241.png  \n",
            "  inflating: content/Segment-and-Track-Anything/tracking_results/514114609/514114609_masks/00054.png  \n",
            "  inflating: content/Segment-and-Track-Anything/tracking_results/514114609/514114609_masks/00318.png  \n",
            "  inflating: content/Segment-and-Track-Anything/tracking_results/514114609/514114609_masks/00220.png  \n",
            "  inflating: content/Segment-and-Track-Anything/tracking_results/514114609/514114609_masks/00372.png  \n",
            "  inflating: content/Segment-and-Track-Anything/tracking_results/514114609/514114609_masks/00388.png  \n",
            "  inflating: content/Segment-and-Track-Anything/tracking_results/514114609/514114609_masks/00329.png  \n",
            "  inflating: content/Segment-and-Track-Anything/tracking_results/514114609/514114609_masks/00391.png  \n",
            "  inflating: content/Segment-and-Track-Anything/tracking_results/514114609/514114609_masks/00350.png  \n",
            "  inflating: content/Segment-and-Track-Anything/tracking_results/514114609/514114609_masks/00192.png  \n",
            "  inflating: content/Segment-and-Track-Anything/tracking_results/514114609/514114609_masks/00159.png  \n",
            "  inflating: content/Segment-and-Track-Anything/tracking_results/514114609/514114609_masks/00277.png  \n",
            "  inflating: content/Segment-and-Track-Anything/tracking_results/514114609/514114609_masks/00380.png  \n",
            "  inflating: content/Segment-and-Track-Anything/tracking_results/514114609/514114609_masks/00261.png  \n",
            "  inflating: content/Segment-and-Track-Anything/tracking_results/514114609/514114609_masks/00211.png  \n",
            "  inflating: content/Segment-and-Track-Anything/tracking_results/514114609/514114609_masks/00408.png  \n",
            "  inflating: content/Segment-and-Track-Anything/tracking_results/514114609/514114609_masks/00278.png  \n",
            "  inflating: content/Segment-and-Track-Anything/tracking_results/514114609/514114609_masks/00017.png  \n",
            "  inflating: content/Segment-and-Track-Anything/tracking_results/514114609/514114609_masks/00056.png  \n",
            "  inflating: content/Segment-and-Track-Anything/tracking_results/514114609/514114609_masks/00312.png  \n",
            "  inflating: content/Segment-and-Track-Anything/tracking_results/514114609/514114609_masks/00197.png  \n",
            "  inflating: content/Segment-and-Track-Anything/tracking_results/514114609/514114609_masks/00239.png  \n",
            "  inflating: content/Segment-and-Track-Anything/tracking_results/514114609/514114609_masks/00263.png  \n",
            "  inflating: content/Segment-and-Track-Anything/tracking_results/514114609/514114609_masks/00300.png  \n",
            "  inflating: content/Segment-and-Track-Anything/tracking_results/514114609/514114609_masks/00116.png  \n",
            "  inflating: content/Segment-and-Track-Anything/tracking_results/514114609/514114609_masks/00016.png  \n",
            "  inflating: content/Segment-and-Track-Anything/tracking_results/514114609/514114609_masks/00386.png  \n",
            "  inflating: content/Segment-and-Track-Anything/tracking_results/514114609/514114609_masks/00404.png  \n",
            "  inflating: content/Segment-and-Track-Anything/tracking_results/514114609/514114609_masks/00419.png  \n",
            "  inflating: content/Segment-and-Track-Anything/tracking_results/514114609/514114609_masks/00383.png  \n",
            "  inflating: content/Segment-and-Track-Anything/tracking_results/514114609/514114609_masks/00360.png  \n",
            "  inflating: content/Segment-and-Track-Anything/tracking_results/514114609/514114609_masks/00409.png  \n",
            "  inflating: content/Segment-and-Track-Anything/tracking_results/514114609/514114609_masks/00096.png  \n",
            "  inflating: content/Segment-and-Track-Anything/tracking_results/514114609/514114609_masks/00377.png  \n",
            "  inflating: content/Segment-and-Track-Anything/tracking_results/514114609/514114609_masks/00395.png  \n",
            "  inflating: content/Segment-and-Track-Anything/tracking_results/514114609/514114609_masks/00355.png  \n",
            "  inflating: content/Segment-and-Track-Anything/tracking_results/514114609/514114609_masks/00320.png  \n",
            "  inflating: content/Segment-and-Track-Anything/tracking_results/514114609/514114609_masks/00161.png  \n",
            "  inflating: content/Segment-and-Track-Anything/tracking_results/514114609/514114609_masks/00402.png  \n",
            "  inflating: content/Segment-and-Track-Anything/tracking_results/514114609/514114609_masks/00311.png  \n",
            "  inflating: content/Segment-and-Track-Anything/tracking_results/514114609/514114609_masks/00165.png  \n",
            "  inflating: content/Segment-and-Track-Anything/tracking_results/514114609/514114609_masks/00117.png  \n",
            "  inflating: content/Segment-and-Track-Anything/tracking_results/514114609/514114609_masks/00205.png  \n",
            "  inflating: content/Segment-and-Track-Anything/tracking_results/514114609/514114609_masks/00018.png  \n",
            "  inflating: content/Segment-and-Track-Anything/tracking_results/514114609/514114609_masks/00176.png  \n",
            "  inflating: content/Segment-and-Track-Anything/tracking_results/514114609/514114609_masks/00024.png  \n",
            "  inflating: content/Segment-and-Track-Anything/tracking_results/514114609/514114609_masks/00249.png  \n",
            "  inflating: content/Segment-and-Track-Anything/tracking_results/514114609/514114609_masks/00074.png  \n",
            "  inflating: content/Segment-and-Track-Anything/tracking_results/514114609/514114609_masks/00015.png  \n",
            "  inflating: content/Segment-and-Track-Anything/tracking_results/514114609/514114609_masks/00006.png  \n",
            "  inflating: content/Segment-and-Track-Anything/tracking_results/514114609/514114609_masks/00177.png  \n",
            "  inflating: content/Segment-and-Track-Anything/tracking_results/514114609/514114609_masks/00005.png  \n",
            "  inflating: content/Segment-and-Track-Anything/tracking_results/514114609/514114609_masks/00287.png  \n",
            "  inflating: content/Segment-and-Track-Anything/tracking_results/514114609/514114609_masks/00003.png  \n",
            "  inflating: content/Segment-and-Track-Anything/tracking_results/514114609/514114609_masks/00195.png  \n",
            "  inflating: content/Segment-and-Track-Anything/tracking_results/514114609/514114609_masks/00307.png  \n",
            "  inflating: content/Segment-and-Track-Anything/tracking_results/514114609/514114609_masks/00365.png  \n",
            "  inflating: content/Segment-and-Track-Anything/tracking_results/514114609/514114609_masks/00366.png  \n",
            "  inflating: content/Segment-and-Track-Anything/tracking_results/514114609/514114609_masks/00008.png  \n",
            "  inflating: content/Segment-and-Track-Anything/tracking_results/514114609/514114609_masks/00029.png  \n",
            "  inflating: content/Segment-and-Track-Anything/tracking_results/514114609/514114609_masks/00059.png  \n",
            "  inflating: content/Segment-and-Track-Anything/tracking_results/514114609/514114609_masks/00036.png  \n",
            "  inflating: content/Segment-and-Track-Anything/tracking_results/514114609/514114609_masks/00135.png  \n",
            "  inflating: content/Segment-and-Track-Anything/tracking_results/514114609/514114609_masks/00009.png  \n",
            "  inflating: content/Segment-and-Track-Anything/tracking_results/514114609/514114609_masks/00196.png  \n",
            "  inflating: content/Segment-and-Track-Anything/tracking_results/514114609/514114609_masks/00293.png  \n",
            "  inflating: content/Segment-and-Track-Anything/tracking_results/514114609/514114609_masks/00214.png  \n",
            "  inflating: content/Segment-and-Track-Anything/tracking_results/514114609/514114609_masks/00357.png  \n",
            "  inflating: content/Segment-and-Track-Anything/tracking_results/514114609/514114609_masks/00387.png  \n",
            "  inflating: content/Segment-and-Track-Anything/tracking_results/514114609/514114609_masks/00334.png  \n",
            "  inflating: content/Segment-and-Track-Anything/tracking_results/514114609/514114609_masks/00321.png  \n",
            "  inflating: content/Segment-and-Track-Anything/tracking_results/514114609/514114609_masks/00140.png  \n",
            "  inflating: content/Segment-and-Track-Anything/tracking_results/514114609/514114609_masks/00295.png  \n",
            "  inflating: content/Segment-and-Track-Anything/tracking_results/514114609/514114609_masks/00356.png  \n",
            "  inflating: content/Segment-and-Track-Anything/tracking_results/514114609/514114609_masks/00367.png  \n",
            "  inflating: content/Segment-and-Track-Anything/tracking_results/514114609/514114609_masks/00217.png  \n",
            "  inflating: content/Segment-and-Track-Anything/tracking_results/514114609/514114609_masks/00204.png  \n",
            "  inflating: content/Segment-and-Track-Anything/tracking_results/514114609/514114609_masks/00226.png  \n",
            "  inflating: content/Segment-and-Track-Anything/tracking_results/514114609/514114609_masks/00171.png  \n",
            "  inflating: content/Segment-and-Track-Anything/tracking_results/514114609/514114609_masks/00092.png  \n",
            "  inflating: content/Segment-and-Track-Anything/tracking_results/514114609/514114609_masks/00283.png  \n",
            "  inflating: content/Segment-and-Track-Anything/tracking_results/514114609/514114609_masks/00286.png  \n",
            "  inflating: content/Segment-and-Track-Anything/tracking_results/514114609/514114609_masks/00345.png  \n",
            "  inflating: content/Segment-and-Track-Anything/tracking_results/514114609/514114609_masks/00014.png  \n",
            "  inflating: content/Segment-and-Track-Anything/tracking_results/514114609/514114609_masks/00246.png  \n",
            "  inflating: content/Segment-and-Track-Anything/tracking_results/514114609/514114609_masks/00190.png  \n",
            "  inflating: content/Segment-and-Track-Anything/tracking_results/514114609/514114609_masks/00370.png  \n",
            "  inflating: content/Segment-and-Track-Anything/tracking_results/514114609/514114609_masks/00082.png  \n",
            "  inflating: content/Segment-and-Track-Anything/tracking_results/514114609/514114609_masks/00166.png  \n",
            "  inflating: content/Segment-and-Track-Anything/tracking_results/514114609/514114609_masks/00381.png  \n",
            "  inflating: content/Segment-and-Track-Anything/tracking_results/514114609/514114609_masks/00385.png  \n",
            "  inflating: content/Segment-and-Track-Anything/tracking_results/514114609/514114609_masks/00371.png  \n",
            "  inflating: content/Segment-and-Track-Anything/tracking_results/514114609/514114609_masks/00095.png  \n",
            "  inflating: content/Segment-and-Track-Anything/tracking_results/514114609/514114609_masks/00084.png  \n",
            "  inflating: content/Segment-and-Track-Anything/tracking_results/514114609/514114609_masks/00208.png  \n",
            "  inflating: content/Segment-and-Track-Anything/tracking_results/514114609/514114609_masks/00180.png  \n",
            "  inflating: content/Segment-and-Track-Anything/tracking_results/514114609/514114609_masks/00340.png  \n",
            "  inflating: content/Segment-and-Track-Anything/tracking_results/514114609/514114609_masks/00276.png  \n",
            "  inflating: content/Segment-and-Track-Anything/tracking_results/514114609/514114609_masks/00200.png  \n",
            "  inflating: content/Segment-and-Track-Anything/tracking_results/514114609/514114609_masks/00270.png  \n",
            "  inflating: content/Segment-and-Track-Anything/tracking_results/514114609/514114609_masks/00219.png  \n",
            "  inflating: content/Segment-and-Track-Anything/tracking_results/514114609/514114609_masks/00163.png  \n",
            "  inflating: content/Segment-and-Track-Anything/tracking_results/514114609/514114609_masks/00244.png  \n",
            "  inflating: content/Segment-and-Track-Anything/tracking_results/514114609/514114609_masks/00068.png  \n",
            "  inflating: content/Segment-and-Track-Anything/tracking_results/514114609/514114609_masks/00155.png  \n",
            "  inflating: content/Segment-and-Track-Anything/tracking_results/514114609/514114609_masks/00060.png  \n",
            "  inflating: content/Segment-and-Track-Anything/tracking_results/514114609/514114609_masks/00243.png  \n",
            "  inflating: content/Segment-and-Track-Anything/tracking_results/514114609/514114609_masks/00136.png  \n",
            "  inflating: content/Segment-and-Track-Anything/tracking_results/514114609/514114609_masks/00414.png  \n",
            "  inflating: content/Segment-and-Track-Anything/tracking_results/514114609/514114609_masks/00001.png  \n",
            "  inflating: content/Segment-and-Track-Anything/tracking_results/514114609/514114609_masks/00174.png  \n",
            "  inflating: content/Segment-and-Track-Anything/tracking_results/514114609/514114609_masks/00374.png  \n",
            "  inflating: content/Segment-and-Track-Anything/tracking_results/514114609/514114609_masks/00077.png  \n",
            "  inflating: content/Segment-and-Track-Anything/tracking_results/514114609/514114609_masks/00403.png  \n",
            "  inflating: content/Segment-and-Track-Anything/tracking_results/514114609/514114609_masks/00079.png  \n",
            "  inflating: content/Segment-and-Track-Anything/tracking_results/514114609/514114609_masks/00399.png  \n",
            "  inflating: content/Segment-and-Track-Anything/tracking_results/514114609/514114609_masks/00020.png  \n",
            "  inflating: content/Segment-and-Track-Anything/tracking_results/514114609/514114609_masks/00228.png  \n",
            "  inflating: content/Segment-and-Track-Anything/tracking_results/514114609/514114609_masks/00053.png  \n",
            "  inflating: content/Segment-and-Track-Anything/tracking_results/514114609/514114609_masks/00266.png  \n",
            "  inflating: content/Segment-and-Track-Anything/tracking_results/514114609/514114609_masks/00362.png  \n",
            "  inflating: content/Segment-and-Track-Anything/tracking_results/514114609/514114609_masks/00138.png  \n",
            "  inflating: content/Segment-and-Track-Anything/tracking_results/514114609/514114609_masks/00128.png  \n",
            "  inflating: content/Segment-and-Track-Anything/tracking_results/514114609/514114609_masks/00104.png  \n",
            "  inflating: content/Segment-and-Track-Anything/tracking_results/514114609/514114609_masks/00368.png  \n",
            "  inflating: content/Segment-and-Track-Anything/tracking_results/514114609/514114609_masks/00413.png  \n",
            "  inflating: content/Segment-and-Track-Anything/tracking_results/514114609/514114609_masks/00046.png  \n",
            "  inflating: content/Segment-and-Track-Anything/tracking_results/514114609/514114609_masks/00069.png  \n",
            "  inflating: content/Segment-and-Track-Anything/tracking_results/514114609/514114609_masks/00346.png  \n",
            "  inflating: content/Segment-and-Track-Anything/tracking_results/514114609/514114609_masks/00280.png  \n",
            "  inflating: content/Segment-and-Track-Anything/tracking_results/514114609/514114609_masks/00100_new.png  \n",
            "  inflating: content/Segment-and-Track-Anything/tracking_results/514114609/514114609_masks/00035.png  \n",
            "  inflating: content/Segment-and-Track-Anything/tracking_results/514114609/514114609_masks/00038.png  \n",
            "  inflating: content/Segment-and-Track-Anything/tracking_results/514114609/514114609_masks/00398.png  \n",
            "  inflating: content/Segment-and-Track-Anything/tracking_results/514114609/514114609_masks/00198.png  \n",
            "  inflating: content/Segment-and-Track-Anything/tracking_results/514114609/514114609_masks/00072.png  \n",
            "  inflating: content/Segment-and-Track-Anything/tracking_results/514114609/514114609_masks/00300_new.png  \n",
            "  inflating: content/Segment-and-Track-Anything/tracking_results/514114609/514114609_masks/00153.png  \n",
            "  inflating: content/Segment-and-Track-Anything/tracking_results/514114609/514114609_masks/00361.png  \n",
            "  inflating: content/Segment-and-Track-Anything/tracking_results/514114609/514114609_masks/00182.png  \n",
            "  inflating: content/Segment-and-Track-Anything/tracking_results/514114609/514114609_masks/00125.png  \n",
            "  inflating: content/Segment-and-Track-Anything/tracking_results/514114609/514114609_masks/00354.png  \n",
            "  inflating: content/Segment-and-Track-Anything/tracking_results/514114609/514114609_masks/00410.png  \n",
            "  inflating: content/Segment-and-Track-Anything/tracking_results/514114609/514114609_masks/00331.png  \n",
            "  inflating: content/Segment-and-Track-Anything/tracking_results/514114609/514114609_masks/00089.png  \n",
            "  inflating: content/Segment-and-Track-Anything/tracking_results/514114609/514114609_masks/00416.png  \n",
            "  inflating: content/Segment-and-Track-Anything/tracking_results/514114609/514114609_masks/00260.png  \n",
            "  inflating: content/Segment-and-Track-Anything/tracking_results/514114609/514114609_masks/00164.png  \n",
            "  inflating: content/Segment-and-Track-Anything/tracking_results/514114609/514114609_masks/00085.png  \n",
            "  inflating: content/Segment-and-Track-Anything/tracking_results/514114609/514114609_masks/00301.png  \n",
            "  inflating: content/Segment-and-Track-Anything/tracking_results/514114609/514114609_masks/00363.png  \n",
            "  inflating: content/Segment-and-Track-Anything/tracking_results/514114609/514114609_masks/00257.png  \n",
            "  inflating: content/Segment-and-Track-Anything/tracking_results/514114609/514114609_masks/00405.png  \n",
            "  inflating: content/Segment-and-Track-Anything/tracking_results/514114609/514114609_masks/00316.png  \n",
            "  inflating: content/Segment-and-Track-Anything/tracking_results/514114609/514114609_masks/00326.png  \n",
            "  inflating: content/Segment-and-Track-Anything/tracking_results/514114609/514114609_masks/00044.png  \n",
            "  inflating: content/Segment-and-Track-Anything/tracking_results/514114609/514114609_masks/00023.png  \n",
            "  inflating: content/Segment-and-Track-Anything/tracking_results/514114609/514114609_masks/00342.png  \n",
            "  inflating: content/Segment-and-Track-Anything/tracking_results/514114609/514114609_masks/00254.png  \n",
            "  inflating: content/Segment-and-Track-Anything/tracking_results/514114609/514114609_masks/00094.png  \n",
            "  inflating: content/Segment-and-Track-Anything/tracking_results/514114609/514114609_masks/00118.png  \n",
            "  inflating: content/Segment-and-Track-Anything/tracking_results/514114609/514114609_masks/00234.png  \n",
            "  inflating: content/Segment-and-Track-Anything/tracking_results/514114609/514114609_masks/00323.png  \n",
            "  inflating: content/Segment-and-Track-Anything/tracking_results/514114609/514114609_masks/00382.png  \n",
            "  inflating: content/Segment-and-Track-Anything/tracking_results/514114609/514114609_masks/00324.png  \n",
            "  inflating: content/Segment-and-Track-Anything/tracking_results/514114609/514114609_masks/00187.png  \n",
            "  inflating: content/Segment-and-Track-Anything/tracking_results/514114609/514114609_masks/00209.png  \n",
            "  inflating: content/Segment-and-Track-Anything/tracking_results/514114609/514114609_masks/00230.png  \n",
            "  inflating: content/Segment-and-Track-Anything/tracking_results/514114609/514114609_masks/00322.png  \n",
            "  inflating: content/Segment-and-Track-Anything/tracking_results/514114609/514114609_masks/00004.png  \n",
            "  inflating: content/Segment-and-Track-Anything/tracking_results/514114609/514114609_masks/00200_new.png  \n",
            "  inflating: content/Segment-and-Track-Anything/tracking_results/514114609/514114609_masks/00083.png  \n",
            "  inflating: content/Segment-and-Track-Anything/tracking_results/514114609/514114609_masks/00369.png  \n",
            "  inflating: content/Segment-and-Track-Anything/tracking_results/514114609/514114609_masks/00075.png  \n",
            "  inflating: content/Segment-and-Track-Anything/tracking_results/514114609/514114609_masks/00291.png  \n",
            "  inflating: content/Segment-and-Track-Anything/tracking_results/514114609/514114609_masks/00207.png  \n",
            "  inflating: content/Segment-and-Track-Anything/tracking_results/514114609/514114609_masks/00351.png  \n",
            "  inflating: content/Segment-and-Track-Anything/tracking_results/514114609/514114609_masks/00127.png  \n",
            "  inflating: content/Segment-and-Track-Anything/tracking_results/514114609/514114609_masks/00098.png  \n",
            "  inflating: content/Segment-and-Track-Anything/tracking_results/514114609/514114609_masks/00224.png  \n",
            "  inflating: content/Segment-and-Track-Anything/tracking_results/514114609/514114609_masks/00289.png  \n",
            "  inflating: content/Segment-and-Track-Anything/tracking_results/514114609/514114609_masks/00152.png  \n",
            "  inflating: content/Segment-and-Track-Anything/tracking_results/514114609/514114609_masks/00162.png  \n",
            "  inflating: content/Segment-and-Track-Anything/tracking_results/514114609/514114609_masks/00336.png  \n",
            "  inflating: content/Segment-and-Track-Anything/tracking_results/514114609/514114609_masks/00292.png  \n",
            "  inflating: content/Segment-and-Track-Anything/tracking_results/514114609/514114609_masks/00120.png  \n",
            "  inflating: content/Segment-and-Track-Anything/tracking_results/514114609/514114609_masks/00055.png  \n",
            "  inflating: content/Segment-and-Track-Anything/tracking_results/514114609/514114609_masks/00397.png  \n",
            "  inflating: content/Segment-and-Track-Anything/tracking_results/514114609/514114609_masks/00411.png  \n",
            "  inflating: content/Segment-and-Track-Anything/tracking_results/514114609/514114609_masks/00175.png  \n",
            "  inflating: content/Segment-and-Track-Anything/tracking_results/514114609/514114609_masks/00109.png  \n",
            "  inflating: content/Segment-and-Track-Anything/tracking_results/514114609/514114609_masks/00400_new.png  \n",
            "  inflating: content/Segment-and-Track-Anything/tracking_results/514114609/514114609_masks/00103.png  \n",
            "  inflating: content/Segment-and-Track-Anything/tracking_results/514114609/514114609_masks/00037.png  \n",
            "  inflating: content/Segment-and-Track-Anything/tracking_results/514114609/514114609_masks/00168.png  \n",
            "  inflating: content/Segment-and-Track-Anything/tracking_results/514114609/514114609_masks/00111.png  \n",
            "  inflating: content/Segment-and-Track-Anything/tracking_results/514114609/514114609_masks/00294.png  \n",
            "  inflating: content/Segment-and-Track-Anything/tracking_results/514114609/514114609_masks/00203.png  \n",
            "  inflating: content/Segment-and-Track-Anything/tracking_results/514114609/514114609_masks/00000.png  \n",
            "  inflating: content/Segment-and-Track-Anything/tracking_results/514114609/514114609_masks/00358.png  \n",
            "  inflating: content/Segment-and-Track-Anything/tracking_results/514114609/514114609_masks/00130.png  \n",
            "  inflating: content/Segment-and-Track-Anything/tracking_results/514114609/514114609_masks/00080.png  \n",
            "  inflating: content/Segment-and-Track-Anything/tracking_results/514114609/514114609_masks/00107.png  \n",
            "  inflating: content/Segment-and-Track-Anything/tracking_results/514114609/514114609_masks/00248.png  \n",
            "  inflating: content/Segment-and-Track-Anything/tracking_results/514114609/514114609_masks/00124.png  \n",
            "  inflating: content/Segment-and-Track-Anything/tracking_results/514114609/514114609_masks/00086.png  \n",
            "  inflating: content/Segment-and-Track-Anything/tracking_results/514114609/514114609_masks/00045.png  \n",
            "  inflating: content/Segment-and-Track-Anything/tracking_results/514114609/514114609_masks/00223.png  \n",
            "  inflating: content/Segment-and-Track-Anything/tracking_results/514114609/514114609_masks/00131.png  \n",
            "  inflating: content/Segment-and-Track-Anything/tracking_results/514114609/514114609_masks/00010.png  \n",
            "  inflating: content/Segment-and-Track-Anything/tracking_results/514114609/514114609_masks/00066.png  \n",
            "  inflating: content/Segment-and-Track-Anything/tracking_results/514114609/514114609_masks/00186.png  \n",
            "  inflating: content/Segment-and-Track-Anything/tracking_results/514114609/514114609_masks/00390.png  \n",
            "  inflating: content/Segment-and-Track-Anything/tracking_results/514114609/514114609_masks/00105.png  \n",
            "  inflating: content/Segment-and-Track-Anything/tracking_results/514114609/514114609_masks/00379.png  \n",
            "  inflating: content/Segment-and-Track-Anything/tracking_results/514114609/514114609_masks/00119.png  \n",
            "  inflating: content/Segment-and-Track-Anything/tracking_results/514114609/514114609_masks/00378.png  \n",
            "  inflating: content/Segment-and-Track-Anything/tracking_results/514114609/514114609_masks/00218.png  \n",
            "  inflating: content/Segment-and-Track-Anything/tracking_results/514114609/514114609_masks/00375.png  \n",
            "  inflating: content/Segment-and-Track-Anything/tracking_results/514114609/514114609_masks/00145.png  \n",
            "  inflating: content/Segment-and-Track-Anything/tracking_results/514114609/514114609_masks/00097.png  \n",
            "  inflating: content/Segment-and-Track-Anything/tracking_results/514114609/514114609_masks/00028.png  \n",
            "  inflating: content/Segment-and-Track-Anything/tracking_results/514114609/514114609_masks/00227.png  \n",
            "  inflating: content/Segment-and-Track-Anything/tracking_results/514114609/514114609_masks/00253.png  \n",
            "  inflating: content/Segment-and-Track-Anything/tracking_results/514114609/514114609_masks/00285.png  \n",
            "  inflating: content/Segment-and-Track-Anything/tracking_results/514114609/514114609_masks/00259.png  \n",
            "  inflating: content/Segment-and-Track-Anything/tracking_results/514114609/514114609_masks/00332.png  \n",
            "  inflating: content/Segment-and-Track-Anything/tracking_results/514114609/514114609_masks/00110.png  \n",
            "  inflating: content/Segment-and-Track-Anything/tracking_results/514114609/514114609_masks/00417.png  \n",
            "  inflating: content/Segment-and-Track-Anything/tracking_results/514114609/514114609_masks/00040.png  \n",
            "  inflating: content/Segment-and-Track-Anything/tracking_results/514114609/514114609_masks/00256.png  \n",
            "  inflating: content/Segment-and-Track-Anything/tracking_results/514114609/514114609_masks/00337.png  \n",
            "  inflating: content/Segment-and-Track-Anything/tracking_results/514114609/514114609_masks/00048.png  \n",
            "  inflating: content/Segment-and-Track-Anything/tracking_results/514114609/514114609_masks/00122.png  \n",
            "  inflating: content/Segment-and-Track-Anything/tracking_results/514114609/514114609_masks/00139.png  \n",
            "  inflating: content/Segment-and-Track-Anything/tracking_results/514114609/514114609_masks/00172.png  \n"
          ]
        }
      ]
    },
    {
      "cell_type": "code",
      "source": [
        "%cd /content/ProPainter/inputs/object_removal/3_mask\n",
        "!ls\n",
        "!unzip 1217778986_pred_mask"
      ],
      "metadata": {
        "colab": {
          "base_uri": "https://localhost:8080/"
        },
        "id": "ofHApSN3b4GT",
        "outputId": "de6a7bcd-b954-4734-8f78-5d254264a8c4"
      },
      "execution_count": 28,
      "outputs": [
        {
          "output_type": "stream",
          "name": "stdout",
          "text": [
            "/content/ProPainter/inputs/object_removal/3_mask\n",
            "1217778986_pred_mask.zip\n",
            "Archive:  1217778986_pred_mask.zip\n",
            "   creating: content/Segment-and-Track-Anything/tracking_results/1217778986/1217778986_masks/\n",
            "  inflating: content/Segment-and-Track-Anything/tracking_results/1217778986/1217778986_masks/00101.png  \n",
            "  inflating: content/Segment-and-Track-Anything/tracking_results/1217778986/1217778986_masks/00011.png  \n",
            "  inflating: content/Segment-and-Track-Anything/tracking_results/1217778986/1217778986_masks/00021.png  \n",
            "  inflating: content/Segment-and-Track-Anything/tracking_results/1217778986/1217778986_masks/00081.png  \n",
            "  inflating: content/Segment-and-Track-Anything/tracking_results/1217778986/1217778986_masks/00090.png  \n",
            "  inflating: content/Segment-and-Track-Anything/tracking_results/1217778986/1217778986_masks/00142.png  \n",
            "  inflating: content/Segment-and-Track-Anything/tracking_results/1217778986/1217778986_masks/00042.png  \n",
            "  inflating: content/Segment-and-Track-Anything/tracking_results/1217778986/1217778986_masks/00032.png  \n",
            "  inflating: content/Segment-and-Track-Anything/tracking_results/1217778986/1217778986_masks/00026.png  \n",
            "  inflating: content/Segment-and-Track-Anything/tracking_results/1217778986/1217778986_masks/00025.png  \n",
            "  inflating: content/Segment-and-Track-Anything/tracking_results/1217778986/1217778986_masks/00064.png  \n",
            "  inflating: content/Segment-and-Track-Anything/tracking_results/1217778986/1217778986_masks/00047.png  \n",
            "  inflating: content/Segment-and-Track-Anything/tracking_results/1217778986/1217778986_masks/00065.png  \n",
            "  inflating: content/Segment-and-Track-Anything/tracking_results/1217778986/1217778986_masks/00078.png  \n",
            "  inflating: content/Segment-and-Track-Anything/tracking_results/1217778986/1217778986_masks/00012.png  \n",
            "  inflating: content/Segment-and-Track-Anything/tracking_results/1217778986/1217778986_masks/00033.png  \n",
            "  inflating: content/Segment-and-Track-Anything/tracking_results/1217778986/1217778986_masks/00150.png  \n",
            "  inflating: content/Segment-and-Track-Anything/tracking_results/1217778986/1217778986_masks/00002.png  \n",
            "  inflating: content/Segment-and-Track-Anything/tracking_results/1217778986/1217778986_masks/00043.png  \n",
            "  inflating: content/Segment-and-Track-Anything/tracking_results/1217778986/1217778986_masks/00022.png  \n",
            "  inflating: content/Segment-and-Track-Anything/tracking_results/1217778986/1217778986_masks/00039.png  \n",
            "  inflating: content/Segment-and-Track-Anything/tracking_results/1217778986/1217778986_masks/00007.png  \n",
            "  inflating: content/Segment-and-Track-Anything/tracking_results/1217778986/1217778986_masks/00148.png  \n",
            "  inflating: content/Segment-and-Track-Anything/tracking_results/1217778986/1217778986_masks/00099.png  \n",
            "  inflating: content/Segment-and-Track-Anything/tracking_results/1217778986/1217778986_masks/00133.png  \n",
            "  inflating: content/Segment-and-Track-Anything/tracking_results/1217778986/1217778986_masks/00049.png  \n",
            "  inflating: content/Segment-and-Track-Anything/tracking_results/1217778986/1217778986_masks/00115.png  \n",
            "  inflating: content/Segment-and-Track-Anything/tracking_results/1217778986/1217778986_masks/00149.png  \n",
            "  inflating: content/Segment-and-Track-Anything/tracking_results/1217778986/1217778986_masks/00126.png  \n",
            "  inflating: content/Segment-and-Track-Anything/tracking_results/1217778986/1217778986_masks/00154.png  \n",
            "  inflating: content/Segment-and-Track-Anything/tracking_results/1217778986/1217778986_masks/00102.png  \n",
            "  inflating: content/Segment-and-Track-Anything/tracking_results/1217778986/1217778986_masks/00076.png  \n",
            "  inflating: content/Segment-and-Track-Anything/tracking_results/1217778986/1217778986_masks/00061.png  \n",
            "  inflating: content/Segment-and-Track-Anything/tracking_results/1217778986/1217778986_masks/00146.png  \n",
            "  inflating: content/Segment-and-Track-Anything/tracking_results/1217778986/1217778986_masks/00073.png  \n",
            "  inflating: content/Segment-and-Track-Anything/tracking_results/1217778986/1217778986_masks/00062.png  \n",
            "  inflating: content/Segment-and-Track-Anything/tracking_results/1217778986/1217778986_masks/00147.png  \n",
            "  inflating: content/Segment-and-Track-Anything/tracking_results/1217778986/1217778986_masks/00114.png  \n",
            "  inflating: content/Segment-and-Track-Anything/tracking_results/1217778986/1217778986_masks/00050.png  \n",
            "  inflating: content/Segment-and-Track-Anything/tracking_results/1217778986/1217778986_masks/00158.png  \n",
            "  inflating: content/Segment-and-Track-Anything/tracking_results/1217778986/1217778986_masks/00091.png  \n",
            "  inflating: content/Segment-and-Track-Anything/tracking_results/1217778986/1217778986_masks/00041.png  \n",
            "  inflating: content/Segment-and-Track-Anything/tracking_results/1217778986/1217778986_masks/00144.png  \n",
            "  inflating: content/Segment-and-Track-Anything/tracking_results/1217778986/1217778986_masks/00129.png  \n",
            "  inflating: content/Segment-and-Track-Anything/tracking_results/1217778986/1217778986_masks/00088.png  \n",
            "  inflating: content/Segment-and-Track-Anything/tracking_results/1217778986/1217778986_masks/00052.png  \n",
            "  inflating: content/Segment-and-Track-Anything/tracking_results/1217778986/1217778986_masks/00151.png  \n",
            "  inflating: content/Segment-and-Track-Anything/tracking_results/1217778986/1217778986_masks/00121.png  \n",
            "  inflating: content/Segment-and-Track-Anything/tracking_results/1217778986/1217778986_masks/00141.png  \n",
            "  inflating: content/Segment-and-Track-Anything/tracking_results/1217778986/1217778986_masks/00112.png  \n",
            "  inflating: content/Segment-and-Track-Anything/tracking_results/1217778986/1217778986_masks/00019.png  \n",
            "  inflating: content/Segment-and-Track-Anything/tracking_results/1217778986/1217778986_masks/00169.png  \n",
            "  inflating: content/Segment-and-Track-Anything/tracking_results/1217778986/1217778986_masks/00034.png  \n",
            "  inflating: content/Segment-and-Track-Anything/tracking_results/1217778986/1217778986_masks/00067.png  \n",
            "  inflating: content/Segment-and-Track-Anything/tracking_results/1217778986/1217778986_masks/00170.png  \n",
            "  inflating: content/Segment-and-Track-Anything/tracking_results/1217778986/1217778986_masks/00093.png  \n",
            "  inflating: content/Segment-and-Track-Anything/tracking_results/1217778986/1217778986_masks/00031.png  \n",
            "  inflating: content/Segment-and-Track-Anything/tracking_results/1217778986/1217778986_masks/00051.png  \n",
            "  inflating: content/Segment-and-Track-Anything/tracking_results/1217778986/1217778986_masks/00137.png  \n",
            "  inflating: content/Segment-and-Track-Anything/tracking_results/1217778986/1217778986_masks/00027.png  \n",
            "  inflating: content/Segment-and-Track-Anything/tracking_results/1217778986/1217778986_masks/00030.png  \n",
            "  inflating: content/Segment-and-Track-Anything/tracking_results/1217778986/1217778986_masks/00156.png  \n",
            "  inflating: content/Segment-and-Track-Anything/tracking_results/1217778986/1217778986_masks/00071.png  \n",
            "  inflating: content/Segment-and-Track-Anything/tracking_results/1217778986/1217778986_masks/00106.png  \n",
            "  inflating: content/Segment-and-Track-Anything/tracking_results/1217778986/1217778986_masks/00113.png  \n",
            "  inflating: content/Segment-and-Track-Anything/tracking_results/1217778986/1217778986_masks/00134.png  \n",
            "  inflating: content/Segment-and-Track-Anything/tracking_results/1217778986/1217778986_masks/00132.png  \n",
            "  inflating: content/Segment-and-Track-Anything/tracking_results/1217778986/1217778986_masks/00167.png  \n",
            "  inflating: content/Segment-and-Track-Anything/tracking_results/1217778986/1217778986_masks/00100.png  \n",
            "  inflating: content/Segment-and-Track-Anything/tracking_results/1217778986/1217778986_masks/00157.png  \n",
            "  inflating: content/Segment-and-Track-Anything/tracking_results/1217778986/1217778986_masks/00087.png  \n",
            "  inflating: content/Segment-and-Track-Anything/tracking_results/1217778986/1217778986_masks/00108.png  \n",
            "  inflating: content/Segment-and-Track-Anything/tracking_results/1217778986/1217778986_masks/00070.png  \n",
            "  inflating: content/Segment-and-Track-Anything/tracking_results/1217778986/1217778986_masks/00063.png  \n",
            "  inflating: content/Segment-and-Track-Anything/tracking_results/1217778986/1217778986_masks/00058.png  \n",
            "  inflating: content/Segment-and-Track-Anything/tracking_results/1217778986/1217778986_masks/00123.png  \n",
            "  inflating: content/Segment-and-Track-Anything/tracking_results/1217778986/1217778986_masks/00013.png  \n",
            "  inflating: content/Segment-and-Track-Anything/tracking_results/1217778986/1217778986_masks/00160.png  \n",
            "  inflating: content/Segment-and-Track-Anything/tracking_results/1217778986/1217778986_masks/00057.png  \n",
            "  inflating: content/Segment-and-Track-Anything/tracking_results/1217778986/1217778986_masks/00143.png  \n",
            "  inflating: content/Segment-and-Track-Anything/tracking_results/1217778986/1217778986_masks/00054.png  \n",
            "  inflating: content/Segment-and-Track-Anything/tracking_results/1217778986/1217778986_masks/00159.png  \n",
            "  inflating: content/Segment-and-Track-Anything/tracking_results/1217778986/1217778986_masks/00017.png  \n",
            "  inflating: content/Segment-and-Track-Anything/tracking_results/1217778986/1217778986_masks/00056.png  \n",
            "  inflating: content/Segment-and-Track-Anything/tracking_results/1217778986/1217778986_masks/00116.png  \n",
            "  inflating: content/Segment-and-Track-Anything/tracking_results/1217778986/1217778986_masks/00016.png  \n",
            "  inflating: content/Segment-and-Track-Anything/tracking_results/1217778986/1217778986_masks/00096.png  \n",
            "  inflating: content/Segment-and-Track-Anything/tracking_results/1217778986/1217778986_masks/00161.png  \n",
            "  inflating: content/Segment-and-Track-Anything/tracking_results/1217778986/1217778986_masks/00165.png  \n",
            "  inflating: content/Segment-and-Track-Anything/tracking_results/1217778986/1217778986_masks/00117.png  \n",
            "  inflating: content/Segment-and-Track-Anything/tracking_results/1217778986/1217778986_masks/00018.png  \n",
            "  inflating: content/Segment-and-Track-Anything/tracking_results/1217778986/1217778986_masks/00024.png  \n",
            "  inflating: content/Segment-and-Track-Anything/tracking_results/1217778986/1217778986_masks/00074.png  \n",
            "  inflating: content/Segment-and-Track-Anything/tracking_results/1217778986/1217778986_masks/00015.png  \n",
            "  inflating: content/Segment-and-Track-Anything/tracking_results/1217778986/1217778986_masks/00006.png  \n",
            "  inflating: content/Segment-and-Track-Anything/tracking_results/1217778986/1217778986_masks/00005.png  \n",
            "  inflating: content/Segment-and-Track-Anything/tracking_results/1217778986/1217778986_masks/00003.png  \n",
            "  inflating: content/Segment-and-Track-Anything/tracking_results/1217778986/1217778986_masks/00008.png  \n",
            "  inflating: content/Segment-and-Track-Anything/tracking_results/1217778986/1217778986_masks/00029.png  \n",
            "  inflating: content/Segment-and-Track-Anything/tracking_results/1217778986/1217778986_masks/00059.png  \n",
            "  inflating: content/Segment-and-Track-Anything/tracking_results/1217778986/1217778986_masks/00036.png  \n",
            "  inflating: content/Segment-and-Track-Anything/tracking_results/1217778986/1217778986_masks/00135.png  \n",
            "  inflating: content/Segment-and-Track-Anything/tracking_results/1217778986/1217778986_masks/00009.png  \n",
            "  inflating: content/Segment-and-Track-Anything/tracking_results/1217778986/1217778986_masks/00140.png  \n",
            "  inflating: content/Segment-and-Track-Anything/tracking_results/1217778986/1217778986_masks/00171.png  \n",
            "  inflating: content/Segment-and-Track-Anything/tracking_results/1217778986/1217778986_masks/00092.png  \n",
            "  inflating: content/Segment-and-Track-Anything/tracking_results/1217778986/1217778986_masks/00014.png  \n",
            "  inflating: content/Segment-and-Track-Anything/tracking_results/1217778986/1217778986_masks/00082.png  \n",
            "  inflating: content/Segment-and-Track-Anything/tracking_results/1217778986/1217778986_masks/00166.png  \n",
            "  inflating: content/Segment-and-Track-Anything/tracking_results/1217778986/1217778986_masks/00095.png  \n",
            "  inflating: content/Segment-and-Track-Anything/tracking_results/1217778986/1217778986_masks/00084.png  \n",
            "  inflating: content/Segment-and-Track-Anything/tracking_results/1217778986/1217778986_masks/00163.png  \n",
            "  inflating: content/Segment-and-Track-Anything/tracking_results/1217778986/1217778986_masks/00068.png  \n",
            "  inflating: content/Segment-and-Track-Anything/tracking_results/1217778986/1217778986_masks/00155.png  \n",
            "  inflating: content/Segment-and-Track-Anything/tracking_results/1217778986/1217778986_masks/00060.png  \n",
            "  inflating: content/Segment-and-Track-Anything/tracking_results/1217778986/1217778986_masks/00136.png  \n",
            "  inflating: content/Segment-and-Track-Anything/tracking_results/1217778986/1217778986_masks/00001.png  \n",
            "  inflating: content/Segment-and-Track-Anything/tracking_results/1217778986/1217778986_masks/00077.png  \n",
            "  inflating: content/Segment-and-Track-Anything/tracking_results/1217778986/1217778986_masks/00079.png  \n",
            "  inflating: content/Segment-and-Track-Anything/tracking_results/1217778986/1217778986_masks/00020.png  \n",
            "  inflating: content/Segment-and-Track-Anything/tracking_results/1217778986/1217778986_masks/00053.png  \n",
            "  inflating: content/Segment-and-Track-Anything/tracking_results/1217778986/1217778986_masks/00138.png  \n",
            "  inflating: content/Segment-and-Track-Anything/tracking_results/1217778986/1217778986_masks/00128.png  \n",
            "  inflating: content/Segment-and-Track-Anything/tracking_results/1217778986/1217778986_masks/00104.png  \n",
            "  inflating: content/Segment-and-Track-Anything/tracking_results/1217778986/1217778986_masks/00046.png  \n",
            "  inflating: content/Segment-and-Track-Anything/tracking_results/1217778986/1217778986_masks/00069.png  \n",
            "  inflating: content/Segment-and-Track-Anything/tracking_results/1217778986/1217778986_masks/00100_new.png  \n",
            "  inflating: content/Segment-and-Track-Anything/tracking_results/1217778986/1217778986_masks/00035.png  \n",
            "  inflating: content/Segment-and-Track-Anything/tracking_results/1217778986/1217778986_masks/00038.png  \n",
            "  inflating: content/Segment-and-Track-Anything/tracking_results/1217778986/1217778986_masks/00072.png  \n",
            "  inflating: content/Segment-and-Track-Anything/tracking_results/1217778986/1217778986_masks/00153.png  \n",
            "  inflating: content/Segment-and-Track-Anything/tracking_results/1217778986/1217778986_masks/00125.png  \n",
            "  inflating: content/Segment-and-Track-Anything/tracking_results/1217778986/1217778986_masks/00089.png  \n",
            "  inflating: content/Segment-and-Track-Anything/tracking_results/1217778986/1217778986_masks/00164.png  \n",
            "  inflating: content/Segment-and-Track-Anything/tracking_results/1217778986/1217778986_masks/00085.png  \n",
            "  inflating: content/Segment-and-Track-Anything/tracking_results/1217778986/1217778986_masks/00044.png  \n",
            "  inflating: content/Segment-and-Track-Anything/tracking_results/1217778986/1217778986_masks/00023.png  \n",
            "  inflating: content/Segment-and-Track-Anything/tracking_results/1217778986/1217778986_masks/00094.png  \n",
            "  inflating: content/Segment-and-Track-Anything/tracking_results/1217778986/1217778986_masks/00118.png  \n",
            "  inflating: content/Segment-and-Track-Anything/tracking_results/1217778986/1217778986_masks/00004.png  \n",
            "  inflating: content/Segment-and-Track-Anything/tracking_results/1217778986/1217778986_masks/00083.png  \n",
            "  inflating: content/Segment-and-Track-Anything/tracking_results/1217778986/1217778986_masks/00075.png  \n",
            "  inflating: content/Segment-and-Track-Anything/tracking_results/1217778986/1217778986_masks/00127.png  \n",
            "  inflating: content/Segment-and-Track-Anything/tracking_results/1217778986/1217778986_masks/00098.png  \n",
            "  inflating: content/Segment-and-Track-Anything/tracking_results/1217778986/1217778986_masks/00152.png  \n",
            "  inflating: content/Segment-and-Track-Anything/tracking_results/1217778986/1217778986_masks/00162.png  \n",
            "  inflating: content/Segment-and-Track-Anything/tracking_results/1217778986/1217778986_masks/00120.png  \n",
            "  inflating: content/Segment-and-Track-Anything/tracking_results/1217778986/1217778986_masks/00055.png  \n",
            "  inflating: content/Segment-and-Track-Anything/tracking_results/1217778986/1217778986_masks/00109.png  \n",
            "  inflating: content/Segment-and-Track-Anything/tracking_results/1217778986/1217778986_masks/00103.png  \n",
            "  inflating: content/Segment-and-Track-Anything/tracking_results/1217778986/1217778986_masks/00037.png  \n",
            "  inflating: content/Segment-and-Track-Anything/tracking_results/1217778986/1217778986_masks/00168.png  \n",
            "  inflating: content/Segment-and-Track-Anything/tracking_results/1217778986/1217778986_masks/00111.png  \n",
            "  inflating: content/Segment-and-Track-Anything/tracking_results/1217778986/1217778986_masks/00000.png  \n",
            "  inflating: content/Segment-and-Track-Anything/tracking_results/1217778986/1217778986_masks/00130.png  \n",
            "  inflating: content/Segment-and-Track-Anything/tracking_results/1217778986/1217778986_masks/00080.png  \n",
            "  inflating: content/Segment-and-Track-Anything/tracking_results/1217778986/1217778986_masks/00107.png  \n",
            "  inflating: content/Segment-and-Track-Anything/tracking_results/1217778986/1217778986_masks/00124.png  \n",
            "  inflating: content/Segment-and-Track-Anything/tracking_results/1217778986/1217778986_masks/00086.png  \n",
            "  inflating: content/Segment-and-Track-Anything/tracking_results/1217778986/1217778986_masks/00045.png  \n",
            "  inflating: content/Segment-and-Track-Anything/tracking_results/1217778986/1217778986_masks/00131.png  \n",
            "  inflating: content/Segment-and-Track-Anything/tracking_results/1217778986/1217778986_masks/00010.png  \n",
            "  inflating: content/Segment-and-Track-Anything/tracking_results/1217778986/1217778986_masks/00066.png  \n",
            "  inflating: content/Segment-and-Track-Anything/tracking_results/1217778986/1217778986_masks/00105.png  \n",
            "  inflating: content/Segment-and-Track-Anything/tracking_results/1217778986/1217778986_masks/00119.png  \n",
            "  inflating: content/Segment-and-Track-Anything/tracking_results/1217778986/1217778986_masks/00145.png  \n",
            "  inflating: content/Segment-and-Track-Anything/tracking_results/1217778986/1217778986_masks/00097.png  \n",
            "  inflating: content/Segment-and-Track-Anything/tracking_results/1217778986/1217778986_masks/00028.png  \n",
            "  inflating: content/Segment-and-Track-Anything/tracking_results/1217778986/1217778986_masks/00110.png  \n",
            "  inflating: content/Segment-and-Track-Anything/tracking_results/1217778986/1217778986_masks/00040.png  \n",
            "  inflating: content/Segment-and-Track-Anything/tracking_results/1217778986/1217778986_masks/00048.png  \n",
            "  inflating: content/Segment-and-Track-Anything/tracking_results/1217778986/1217778986_masks/00122.png  \n",
            "  inflating: content/Segment-and-Track-Anything/tracking_results/1217778986/1217778986_masks/00139.png  \n"
          ]
        }
      ]
    },
    {
      "cell_type": "code",
      "source": [
        "%cd /content/ProPainter/inputs/object_removal/4_mask\n",
        "!ls\n",
        "!unzip 1384620913_pred_mask"
      ],
      "metadata": {
        "colab": {
          "base_uri": "https://localhost:8080/"
        },
        "id": "vGCTYnduafNd",
        "outputId": "3e903a63-657d-4844-cc99-9d44ee84a92b"
      },
      "execution_count": 29,
      "outputs": [
        {
          "output_type": "stream",
          "name": "stdout",
          "text": [
            "/content/ProPainter/inputs/object_removal/4_mask\n",
            "1384620913_pred_mask.zip\n",
            "Archive:  1384620913_pred_mask.zip\n",
            "   creating: content/Segment-and-Track-Anything/tracking_results/1384620913/1384620913_masks/\n",
            "  inflating: content/Segment-and-Track-Anything/tracking_results/1384620913/1384620913_masks/00101.png  \n",
            "  inflating: content/Segment-and-Track-Anything/tracking_results/1384620913/1384620913_masks/00011.png  \n",
            "  inflating: content/Segment-and-Track-Anything/tracking_results/1384620913/1384620913_masks/00021.png  \n",
            "  inflating: content/Segment-and-Track-Anything/tracking_results/1384620913/1384620913_masks/00081.png  \n",
            "  inflating: content/Segment-and-Track-Anything/tracking_results/1384620913/1384620913_masks/00185.png  \n",
            "  inflating: content/Segment-and-Track-Anything/tracking_results/1384620913/1384620913_masks/00090.png  \n",
            "  inflating: content/Segment-and-Track-Anything/tracking_results/1384620913/1384620913_masks/00142.png  \n",
            "  inflating: content/Segment-and-Track-Anything/tracking_results/1384620913/1384620913_masks/00173.png  \n",
            "  inflating: content/Segment-and-Track-Anything/tracking_results/1384620913/1384620913_masks/00042.png  \n",
            "  inflating: content/Segment-and-Track-Anything/tracking_results/1384620913/1384620913_masks/00184.png  \n",
            "  inflating: content/Segment-and-Track-Anything/tracking_results/1384620913/1384620913_masks/00032.png  \n",
            "  inflating: content/Segment-and-Track-Anything/tracking_results/1384620913/1384620913_masks/00194.png  \n",
            "  inflating: content/Segment-and-Track-Anything/tracking_results/1384620913/1384620913_masks/00026.png  \n",
            "  inflating: content/Segment-and-Track-Anything/tracking_results/1384620913/1384620913_masks/00025.png  \n",
            "  inflating: content/Segment-and-Track-Anything/tracking_results/1384620913/1384620913_masks/00064.png  \n",
            "  inflating: content/Segment-and-Track-Anything/tracking_results/1384620913/1384620913_masks/00047.png  \n",
            "  inflating: content/Segment-and-Track-Anything/tracking_results/1384620913/1384620913_masks/00065.png  \n",
            "  inflating: content/Segment-and-Track-Anything/tracking_results/1384620913/1384620913_masks/00078.png  \n",
            "  inflating: content/Segment-and-Track-Anything/tracking_results/1384620913/1384620913_masks/00012.png  \n",
            "  inflating: content/Segment-and-Track-Anything/tracking_results/1384620913/1384620913_masks/00033.png  \n",
            "  inflating: content/Segment-and-Track-Anything/tracking_results/1384620913/1384620913_masks/00150.png  \n",
            "  inflating: content/Segment-and-Track-Anything/tracking_results/1384620913/1384620913_masks/00179.png  \n",
            "  inflating: content/Segment-and-Track-Anything/tracking_results/1384620913/1384620913_masks/00002.png  \n",
            "  inflating: content/Segment-and-Track-Anything/tracking_results/1384620913/1384620913_masks/00043.png  \n",
            "  inflating: content/Segment-and-Track-Anything/tracking_results/1384620913/1384620913_masks/00022.png  \n",
            "  inflating: content/Segment-and-Track-Anything/tracking_results/1384620913/1384620913_masks/00039.png  \n",
            "  inflating: content/Segment-and-Track-Anything/tracking_results/1384620913/1384620913_masks/00007.png  \n",
            "  inflating: content/Segment-and-Track-Anything/tracking_results/1384620913/1384620913_masks/00148.png  \n",
            "  inflating: content/Segment-and-Track-Anything/tracking_results/1384620913/1384620913_masks/00099.png  \n",
            "  inflating: content/Segment-and-Track-Anything/tracking_results/1384620913/1384620913_masks/00181.png  \n",
            "  inflating: content/Segment-and-Track-Anything/tracking_results/1384620913/1384620913_masks/00133.png  \n",
            "  inflating: content/Segment-and-Track-Anything/tracking_results/1384620913/1384620913_masks/00049.png  \n",
            "  inflating: content/Segment-and-Track-Anything/tracking_results/1384620913/1384620913_masks/00115.png  \n",
            "  inflating: content/Segment-and-Track-Anything/tracking_results/1384620913/1384620913_masks/00149.png  \n",
            "  inflating: content/Segment-and-Track-Anything/tracking_results/1384620913/1384620913_masks/00126.png  \n",
            "  inflating: content/Segment-and-Track-Anything/tracking_results/1384620913/1384620913_masks/00154.png  \n",
            "  inflating: content/Segment-and-Track-Anything/tracking_results/1384620913/1384620913_masks/00102.png  \n",
            "  inflating: content/Segment-and-Track-Anything/tracking_results/1384620913/1384620913_masks/00076.png  \n",
            "  inflating: content/Segment-and-Track-Anything/tracking_results/1384620913/1384620913_masks/00061.png  \n",
            "  inflating: content/Segment-and-Track-Anything/tracking_results/1384620913/1384620913_masks/00146.png  \n",
            "  inflating: content/Segment-and-Track-Anything/tracking_results/1384620913/1384620913_masks/00188.png  \n",
            "  inflating: content/Segment-and-Track-Anything/tracking_results/1384620913/1384620913_masks/00073.png  \n",
            "  inflating: content/Segment-and-Track-Anything/tracking_results/1384620913/1384620913_masks/00062.png  \n",
            "  inflating: content/Segment-and-Track-Anything/tracking_results/1384620913/1384620913_masks/00147.png  \n",
            "  inflating: content/Segment-and-Track-Anything/tracking_results/1384620913/1384620913_masks/00178.png  \n",
            "  inflating: content/Segment-and-Track-Anything/tracking_results/1384620913/1384620913_masks/00114.png  \n",
            "  inflating: content/Segment-and-Track-Anything/tracking_results/1384620913/1384620913_masks/00050.png  \n",
            "  inflating: content/Segment-and-Track-Anything/tracking_results/1384620913/1384620913_masks/00158.png  \n",
            "  inflating: content/Segment-and-Track-Anything/tracking_results/1384620913/1384620913_masks/00091.png  \n",
            "  inflating: content/Segment-and-Track-Anything/tracking_results/1384620913/1384620913_masks/00041.png  \n",
            "  inflating: content/Segment-and-Track-Anything/tracking_results/1384620913/1384620913_masks/00144.png  \n",
            "  inflating: content/Segment-and-Track-Anything/tracking_results/1384620913/1384620913_masks/00129.png  \n",
            "  inflating: content/Segment-and-Track-Anything/tracking_results/1384620913/1384620913_masks/00088.png  \n",
            "  inflating: content/Segment-and-Track-Anything/tracking_results/1384620913/1384620913_masks/00052.png  \n",
            "  inflating: content/Segment-and-Track-Anything/tracking_results/1384620913/1384620913_masks/00151.png  \n",
            "  inflating: content/Segment-and-Track-Anything/tracking_results/1384620913/1384620913_masks/00189.png  \n",
            "  inflating: content/Segment-and-Track-Anything/tracking_results/1384620913/1384620913_masks/00121.png  \n",
            "  inflating: content/Segment-and-Track-Anything/tracking_results/1384620913/1384620913_masks/00141.png  \n",
            "  inflating: content/Segment-and-Track-Anything/tracking_results/1384620913/1384620913_masks/00112.png  \n",
            "  inflating: content/Segment-and-Track-Anything/tracking_results/1384620913/1384620913_masks/00191.png  \n",
            "  inflating: content/Segment-and-Track-Anything/tracking_results/1384620913/1384620913_masks/00019.png  \n",
            "  inflating: content/Segment-and-Track-Anything/tracking_results/1384620913/1384620913_masks/00169.png  \n",
            "  inflating: content/Segment-and-Track-Anything/tracking_results/1384620913/1384620913_masks/00034.png  \n",
            "  inflating: content/Segment-and-Track-Anything/tracking_results/1384620913/1384620913_masks/00067.png  \n",
            "  inflating: content/Segment-and-Track-Anything/tracking_results/1384620913/1384620913_masks/00170.png  \n",
            "  inflating: content/Segment-and-Track-Anything/tracking_results/1384620913/1384620913_masks/00093.png  \n",
            "  inflating: content/Segment-and-Track-Anything/tracking_results/1384620913/1384620913_masks/00031.png  \n",
            "  inflating: content/Segment-and-Track-Anything/tracking_results/1384620913/1384620913_masks/00051.png  \n",
            "  inflating: content/Segment-and-Track-Anything/tracking_results/1384620913/1384620913_masks/00183.png  \n",
            "  inflating: content/Segment-and-Track-Anything/tracking_results/1384620913/1384620913_masks/00137.png  \n",
            "  inflating: content/Segment-and-Track-Anything/tracking_results/1384620913/1384620913_masks/00027.png  \n",
            "  inflating: content/Segment-and-Track-Anything/tracking_results/1384620913/1384620913_masks/00030.png  \n",
            "  inflating: content/Segment-and-Track-Anything/tracking_results/1384620913/1384620913_masks/00156.png  \n",
            "  inflating: content/Segment-and-Track-Anything/tracking_results/1384620913/1384620913_masks/00071.png  \n",
            "  inflating: content/Segment-and-Track-Anything/tracking_results/1384620913/1384620913_masks/00106.png  \n",
            "  inflating: content/Segment-and-Track-Anything/tracking_results/1384620913/1384620913_masks/00113.png  \n",
            "  inflating: content/Segment-and-Track-Anything/tracking_results/1384620913/1384620913_masks/00134.png  \n",
            "  inflating: content/Segment-and-Track-Anything/tracking_results/1384620913/1384620913_masks/00132.png  \n",
            "  inflating: content/Segment-and-Track-Anything/tracking_results/1384620913/1384620913_masks/00167.png  \n",
            "  inflating: content/Segment-and-Track-Anything/tracking_results/1384620913/1384620913_masks/00100.png  \n",
            "  inflating: content/Segment-and-Track-Anything/tracking_results/1384620913/1384620913_masks/00157.png  \n",
            "  inflating: content/Segment-and-Track-Anything/tracking_results/1384620913/1384620913_masks/00087.png  \n",
            "  inflating: content/Segment-and-Track-Anything/tracking_results/1384620913/1384620913_masks/00108.png  \n",
            "  inflating: content/Segment-and-Track-Anything/tracking_results/1384620913/1384620913_masks/00070.png  \n",
            "  inflating: content/Segment-and-Track-Anything/tracking_results/1384620913/1384620913_masks/00063.png  \n",
            "  inflating: content/Segment-and-Track-Anything/tracking_results/1384620913/1384620913_masks/00058.png  \n",
            "  inflating: content/Segment-and-Track-Anything/tracking_results/1384620913/1384620913_masks/00123.png  \n",
            "  inflating: content/Segment-and-Track-Anything/tracking_results/1384620913/1384620913_masks/00013.png  \n",
            "  inflating: content/Segment-and-Track-Anything/tracking_results/1384620913/1384620913_masks/00160.png  \n",
            "  inflating: content/Segment-and-Track-Anything/tracking_results/1384620913/1384620913_masks/00057.png  \n",
            "  inflating: content/Segment-and-Track-Anything/tracking_results/1384620913/1384620913_masks/00143.png  \n",
            "  inflating: content/Segment-and-Track-Anything/tracking_results/1384620913/1384620913_masks/00193.png  \n",
            "  inflating: content/Segment-and-Track-Anything/tracking_results/1384620913/1384620913_masks/00054.png  \n",
            "  inflating: content/Segment-and-Track-Anything/tracking_results/1384620913/1384620913_masks/00192.png  \n",
            "  inflating: content/Segment-and-Track-Anything/tracking_results/1384620913/1384620913_masks/00159.png  \n",
            "  inflating: content/Segment-and-Track-Anything/tracking_results/1384620913/1384620913_masks/00017.png  \n",
            "  inflating: content/Segment-and-Track-Anything/tracking_results/1384620913/1384620913_masks/00056.png  \n",
            "  inflating: content/Segment-and-Track-Anything/tracking_results/1384620913/1384620913_masks/00116.png  \n",
            "  inflating: content/Segment-and-Track-Anything/tracking_results/1384620913/1384620913_masks/00016.png  \n",
            "  inflating: content/Segment-and-Track-Anything/tracking_results/1384620913/1384620913_masks/00096.png  \n",
            "  inflating: content/Segment-and-Track-Anything/tracking_results/1384620913/1384620913_masks/00161.png  \n",
            "  inflating: content/Segment-and-Track-Anything/tracking_results/1384620913/1384620913_masks/00165.png  \n",
            "  inflating: content/Segment-and-Track-Anything/tracking_results/1384620913/1384620913_masks/00117.png  \n",
            "  inflating: content/Segment-and-Track-Anything/tracking_results/1384620913/1384620913_masks/00018.png  \n",
            "  inflating: content/Segment-and-Track-Anything/tracking_results/1384620913/1384620913_masks/00176.png  \n",
            "  inflating: content/Segment-and-Track-Anything/tracking_results/1384620913/1384620913_masks/00024.png  \n",
            "  inflating: content/Segment-and-Track-Anything/tracking_results/1384620913/1384620913_masks/00074.png  \n",
            "  inflating: content/Segment-and-Track-Anything/tracking_results/1384620913/1384620913_masks/00015.png  \n",
            "  inflating: content/Segment-and-Track-Anything/tracking_results/1384620913/1384620913_masks/00006.png  \n",
            "  inflating: content/Segment-and-Track-Anything/tracking_results/1384620913/1384620913_masks/00177.png  \n",
            "  inflating: content/Segment-and-Track-Anything/tracking_results/1384620913/1384620913_masks/00005.png  \n",
            "  inflating: content/Segment-and-Track-Anything/tracking_results/1384620913/1384620913_masks/00003.png  \n",
            "  inflating: content/Segment-and-Track-Anything/tracking_results/1384620913/1384620913_masks/00195.png  \n",
            "  inflating: content/Segment-and-Track-Anything/tracking_results/1384620913/1384620913_masks/00008.png  \n",
            "  inflating: content/Segment-and-Track-Anything/tracking_results/1384620913/1384620913_masks/00029.png  \n",
            "  inflating: content/Segment-and-Track-Anything/tracking_results/1384620913/1384620913_masks/00059.png  \n",
            "  inflating: content/Segment-and-Track-Anything/tracking_results/1384620913/1384620913_masks/00036.png  \n",
            "  inflating: content/Segment-and-Track-Anything/tracking_results/1384620913/1384620913_masks/00135.png  \n",
            "  inflating: content/Segment-and-Track-Anything/tracking_results/1384620913/1384620913_masks/00009.png  \n",
            "  inflating: content/Segment-and-Track-Anything/tracking_results/1384620913/1384620913_masks/00140.png  \n",
            "  inflating: content/Segment-and-Track-Anything/tracking_results/1384620913/1384620913_masks/00171.png  \n",
            "  inflating: content/Segment-and-Track-Anything/tracking_results/1384620913/1384620913_masks/00092.png  \n",
            "  inflating: content/Segment-and-Track-Anything/tracking_results/1384620913/1384620913_masks/00014.png  \n",
            "  inflating: content/Segment-and-Track-Anything/tracking_results/1384620913/1384620913_masks/00190.png  \n",
            "  inflating: content/Segment-and-Track-Anything/tracking_results/1384620913/1384620913_masks/00082.png  \n",
            "  inflating: content/Segment-and-Track-Anything/tracking_results/1384620913/1384620913_masks/00166.png  \n",
            "  inflating: content/Segment-and-Track-Anything/tracking_results/1384620913/1384620913_masks/00095.png  \n",
            "  inflating: content/Segment-and-Track-Anything/tracking_results/1384620913/1384620913_masks/00084.png  \n",
            "  inflating: content/Segment-and-Track-Anything/tracking_results/1384620913/1384620913_masks/00180.png  \n",
            "  inflating: content/Segment-and-Track-Anything/tracking_results/1384620913/1384620913_masks/00163.png  \n",
            "  inflating: content/Segment-and-Track-Anything/tracking_results/1384620913/1384620913_masks/00068.png  \n",
            "  inflating: content/Segment-and-Track-Anything/tracking_results/1384620913/1384620913_masks/00155.png  \n",
            "  inflating: content/Segment-and-Track-Anything/tracking_results/1384620913/1384620913_masks/00060.png  \n",
            "  inflating: content/Segment-and-Track-Anything/tracking_results/1384620913/1384620913_masks/00136.png  \n",
            "  inflating: content/Segment-and-Track-Anything/tracking_results/1384620913/1384620913_masks/00001.png  \n",
            "  inflating: content/Segment-and-Track-Anything/tracking_results/1384620913/1384620913_masks/00174.png  \n",
            "  inflating: content/Segment-and-Track-Anything/tracking_results/1384620913/1384620913_masks/00077.png  \n",
            "  inflating: content/Segment-and-Track-Anything/tracking_results/1384620913/1384620913_masks/00079.png  \n",
            "  inflating: content/Segment-and-Track-Anything/tracking_results/1384620913/1384620913_masks/00020.png  \n",
            "  inflating: content/Segment-and-Track-Anything/tracking_results/1384620913/1384620913_masks/00053.png  \n",
            "  inflating: content/Segment-and-Track-Anything/tracking_results/1384620913/1384620913_masks/00138.png  \n",
            "  inflating: content/Segment-and-Track-Anything/tracking_results/1384620913/1384620913_masks/00128.png  \n",
            "  inflating: content/Segment-and-Track-Anything/tracking_results/1384620913/1384620913_masks/00104.png  \n",
            "  inflating: content/Segment-and-Track-Anything/tracking_results/1384620913/1384620913_masks/00046.png  \n",
            "  inflating: content/Segment-and-Track-Anything/tracking_results/1384620913/1384620913_masks/00069.png  \n",
            "  inflating: content/Segment-and-Track-Anything/tracking_results/1384620913/1384620913_masks/00100_new.png  \n",
            "  inflating: content/Segment-and-Track-Anything/tracking_results/1384620913/1384620913_masks/00035.png  \n",
            "  inflating: content/Segment-and-Track-Anything/tracking_results/1384620913/1384620913_masks/00038.png  \n",
            "  inflating: content/Segment-and-Track-Anything/tracking_results/1384620913/1384620913_masks/00072.png  \n",
            "  inflating: content/Segment-and-Track-Anything/tracking_results/1384620913/1384620913_masks/00153.png  \n",
            "  inflating: content/Segment-and-Track-Anything/tracking_results/1384620913/1384620913_masks/00182.png  \n",
            "  inflating: content/Segment-and-Track-Anything/tracking_results/1384620913/1384620913_masks/00125.png  \n",
            "  inflating: content/Segment-and-Track-Anything/tracking_results/1384620913/1384620913_masks/00089.png  \n",
            "  inflating: content/Segment-and-Track-Anything/tracking_results/1384620913/1384620913_masks/00164.png  \n",
            "  inflating: content/Segment-and-Track-Anything/tracking_results/1384620913/1384620913_masks/00085.png  \n",
            "  inflating: content/Segment-and-Track-Anything/tracking_results/1384620913/1384620913_masks/00044.png  \n",
            "  inflating: content/Segment-and-Track-Anything/tracking_results/1384620913/1384620913_masks/00023.png  \n",
            "  inflating: content/Segment-and-Track-Anything/tracking_results/1384620913/1384620913_masks/00094.png  \n",
            "  inflating: content/Segment-and-Track-Anything/tracking_results/1384620913/1384620913_masks/00118.png  \n",
            "  inflating: content/Segment-and-Track-Anything/tracking_results/1384620913/1384620913_masks/00187.png  \n",
            "  inflating: content/Segment-and-Track-Anything/tracking_results/1384620913/1384620913_masks/00004.png  \n",
            "  inflating: content/Segment-and-Track-Anything/tracking_results/1384620913/1384620913_masks/00083.png  \n",
            "  inflating: content/Segment-and-Track-Anything/tracking_results/1384620913/1384620913_masks/00075.png  \n",
            "  inflating: content/Segment-and-Track-Anything/tracking_results/1384620913/1384620913_masks/00127.png  \n",
            "  inflating: content/Segment-and-Track-Anything/tracking_results/1384620913/1384620913_masks/00098.png  \n",
            "  inflating: content/Segment-and-Track-Anything/tracking_results/1384620913/1384620913_masks/00152.png  \n",
            "  inflating: content/Segment-and-Track-Anything/tracking_results/1384620913/1384620913_masks/00162.png  \n",
            "  inflating: content/Segment-and-Track-Anything/tracking_results/1384620913/1384620913_masks/00120.png  \n",
            "  inflating: content/Segment-and-Track-Anything/tracking_results/1384620913/1384620913_masks/00055.png  \n",
            "  inflating: content/Segment-and-Track-Anything/tracking_results/1384620913/1384620913_masks/00175.png  \n",
            "  inflating: content/Segment-and-Track-Anything/tracking_results/1384620913/1384620913_masks/00109.png  \n",
            "  inflating: content/Segment-and-Track-Anything/tracking_results/1384620913/1384620913_masks/00103.png  \n",
            "  inflating: content/Segment-and-Track-Anything/tracking_results/1384620913/1384620913_masks/00037.png  \n",
            "  inflating: content/Segment-and-Track-Anything/tracking_results/1384620913/1384620913_masks/00168.png  \n",
            "  inflating: content/Segment-and-Track-Anything/tracking_results/1384620913/1384620913_masks/00111.png  \n",
            "  inflating: content/Segment-and-Track-Anything/tracking_results/1384620913/1384620913_masks/00000.png  \n",
            "  inflating: content/Segment-and-Track-Anything/tracking_results/1384620913/1384620913_masks/00130.png  \n",
            "  inflating: content/Segment-and-Track-Anything/tracking_results/1384620913/1384620913_masks/00080.png  \n",
            "  inflating: content/Segment-and-Track-Anything/tracking_results/1384620913/1384620913_masks/00107.png  \n",
            "  inflating: content/Segment-and-Track-Anything/tracking_results/1384620913/1384620913_masks/00124.png  \n",
            "  inflating: content/Segment-and-Track-Anything/tracking_results/1384620913/1384620913_masks/00086.png  \n",
            "  inflating: content/Segment-and-Track-Anything/tracking_results/1384620913/1384620913_masks/00045.png  \n",
            "  inflating: content/Segment-and-Track-Anything/tracking_results/1384620913/1384620913_masks/00131.png  \n",
            "  inflating: content/Segment-and-Track-Anything/tracking_results/1384620913/1384620913_masks/00010.png  \n",
            "  inflating: content/Segment-and-Track-Anything/tracking_results/1384620913/1384620913_masks/00066.png  \n",
            "  inflating: content/Segment-and-Track-Anything/tracking_results/1384620913/1384620913_masks/00186.png  \n",
            "  inflating: content/Segment-and-Track-Anything/tracking_results/1384620913/1384620913_masks/00105.png  \n",
            "  inflating: content/Segment-and-Track-Anything/tracking_results/1384620913/1384620913_masks/00119.png  \n",
            "  inflating: content/Segment-and-Track-Anything/tracking_results/1384620913/1384620913_masks/00145.png  \n",
            "  inflating: content/Segment-and-Track-Anything/tracking_results/1384620913/1384620913_masks/00097.png  \n",
            "  inflating: content/Segment-and-Track-Anything/tracking_results/1384620913/1384620913_masks/00028.png  \n",
            "  inflating: content/Segment-and-Track-Anything/tracking_results/1384620913/1384620913_masks/00110.png  \n",
            "  inflating: content/Segment-and-Track-Anything/tracking_results/1384620913/1384620913_masks/00040.png  \n",
            "  inflating: content/Segment-and-Track-Anything/tracking_results/1384620913/1384620913_masks/00048.png  \n",
            "  inflating: content/Segment-and-Track-Anything/tracking_results/1384620913/1384620913_masks/00122.png  \n",
            "  inflating: content/Segment-and-Track-Anything/tracking_results/1384620913/1384620913_masks/00139.png  \n",
            "  inflating: content/Segment-and-Track-Anything/tracking_results/1384620913/1384620913_masks/00172.png  \n"
          ]
        }
      ]
    },
    {
      "cell_type": "code",
      "source": [
        "%cd /content/ProPainter/inputs/object_removal/5_mask\n",
        "!ls\n",
        "!unzip 1704936041_pred_mask"
      ],
      "metadata": {
        "colab": {
          "base_uri": "https://localhost:8080/"
        },
        "id": "N-D6cqq0cE-z",
        "outputId": "08970872-26e6-437a-b51f-0b95c0559292"
      },
      "execution_count": 30,
      "outputs": [
        {
          "output_type": "stream",
          "name": "stdout",
          "text": [
            "/content/ProPainter/inputs/object_removal/5_mask\n",
            "1704936041_pred_mask.zip\n",
            "Archive:  1704936041_pred_mask.zip\n",
            "   creating: content/Segment-and-Track-Anything/tracking_results/1704936041/1704936041_masks/\n",
            "  inflating: content/Segment-and-Track-Anything/tracking_results/1704936041/1704936041_masks/00101.png  \n",
            "  inflating: content/Segment-and-Track-Anything/tracking_results/1704936041/1704936041_masks/00011.png  \n",
            "  inflating: content/Segment-and-Track-Anything/tracking_results/1704936041/1704936041_masks/00021.png  \n",
            "  inflating: content/Segment-and-Track-Anything/tracking_results/1704936041/1704936041_masks/00081.png  \n",
            "  inflating: content/Segment-and-Track-Anything/tracking_results/1704936041/1704936041_masks/00090.png  \n",
            "  inflating: content/Segment-and-Track-Anything/tracking_results/1704936041/1704936041_masks/00042.png  \n",
            "  inflating: content/Segment-and-Track-Anything/tracking_results/1704936041/1704936041_masks/00032.png  \n",
            "  inflating: content/Segment-and-Track-Anything/tracking_results/1704936041/1704936041_masks/00026.png  \n",
            "  inflating: content/Segment-and-Track-Anything/tracking_results/1704936041/1704936041_masks/00025.png  \n",
            "  inflating: content/Segment-and-Track-Anything/tracking_results/1704936041/1704936041_masks/00064.png  \n",
            "  inflating: content/Segment-and-Track-Anything/tracking_results/1704936041/1704936041_masks/00047.png  \n",
            "  inflating: content/Segment-and-Track-Anything/tracking_results/1704936041/1704936041_masks/00065.png  \n",
            "  inflating: content/Segment-and-Track-Anything/tracking_results/1704936041/1704936041_masks/00078.png  \n",
            "  inflating: content/Segment-and-Track-Anything/tracking_results/1704936041/1704936041_masks/00012.png  \n",
            "  inflating: content/Segment-and-Track-Anything/tracking_results/1704936041/1704936041_masks/00033.png  \n",
            "  inflating: content/Segment-and-Track-Anything/tracking_results/1704936041/1704936041_masks/00002.png  \n",
            "  inflating: content/Segment-and-Track-Anything/tracking_results/1704936041/1704936041_masks/00043.png  \n",
            "  inflating: content/Segment-and-Track-Anything/tracking_results/1704936041/1704936041_masks/00022.png  \n",
            "  inflating: content/Segment-and-Track-Anything/tracking_results/1704936041/1704936041_masks/00039.png  \n",
            "  inflating: content/Segment-and-Track-Anything/tracking_results/1704936041/1704936041_masks/00007.png  \n",
            "  inflating: content/Segment-and-Track-Anything/tracking_results/1704936041/1704936041_masks/00099.png  \n",
            "  inflating: content/Segment-and-Track-Anything/tracking_results/1704936041/1704936041_masks/00049.png  \n",
            "  inflating: content/Segment-and-Track-Anything/tracking_results/1704936041/1704936041_masks/00115.png  \n",
            "  inflating: content/Segment-and-Track-Anything/tracking_results/1704936041/1704936041_masks/00126.png  \n",
            "  inflating: content/Segment-and-Track-Anything/tracking_results/1704936041/1704936041_masks/00102.png  \n",
            "  inflating: content/Segment-and-Track-Anything/tracking_results/1704936041/1704936041_masks/00076.png  \n",
            "  inflating: content/Segment-and-Track-Anything/tracking_results/1704936041/1704936041_masks/00061.png  \n",
            "  inflating: content/Segment-and-Track-Anything/tracking_results/1704936041/1704936041_masks/00073.png  \n",
            "  inflating: content/Segment-and-Track-Anything/tracking_results/1704936041/1704936041_masks/00062.png  \n",
            "  inflating: content/Segment-and-Track-Anything/tracking_results/1704936041/1704936041_masks/00114.png  \n",
            "  inflating: content/Segment-and-Track-Anything/tracking_results/1704936041/1704936041_masks/00050.png  \n",
            "  inflating: content/Segment-and-Track-Anything/tracking_results/1704936041/1704936041_masks/00091.png  \n",
            "  inflating: content/Segment-and-Track-Anything/tracking_results/1704936041/1704936041_masks/00041.png  \n",
            "  inflating: content/Segment-and-Track-Anything/tracking_results/1704936041/1704936041_masks/00129.png  \n",
            "  inflating: content/Segment-and-Track-Anything/tracking_results/1704936041/1704936041_masks/00088.png  \n",
            "  inflating: content/Segment-and-Track-Anything/tracking_results/1704936041/1704936041_masks/00052.png  \n",
            "  inflating: content/Segment-and-Track-Anything/tracking_results/1704936041/1704936041_masks/00121.png  \n",
            "  inflating: content/Segment-and-Track-Anything/tracking_results/1704936041/1704936041_masks/00112.png  \n",
            "  inflating: content/Segment-and-Track-Anything/tracking_results/1704936041/1704936041_masks/00019.png  \n",
            "  inflating: content/Segment-and-Track-Anything/tracking_results/1704936041/1704936041_masks/00034.png  \n",
            "  inflating: content/Segment-and-Track-Anything/tracking_results/1704936041/1704936041_masks/00067.png  \n",
            "  inflating: content/Segment-and-Track-Anything/tracking_results/1704936041/1704936041_masks/00093.png  \n",
            "  inflating: content/Segment-and-Track-Anything/tracking_results/1704936041/1704936041_masks/00031.png  \n",
            "  inflating: content/Segment-and-Track-Anything/tracking_results/1704936041/1704936041_masks/00051.png  \n",
            "  inflating: content/Segment-and-Track-Anything/tracking_results/1704936041/1704936041_masks/00027.png  \n",
            "  inflating: content/Segment-and-Track-Anything/tracking_results/1704936041/1704936041_masks/00030.png  \n",
            "  inflating: content/Segment-and-Track-Anything/tracking_results/1704936041/1704936041_masks/00071.png  \n",
            "  inflating: content/Segment-and-Track-Anything/tracking_results/1704936041/1704936041_masks/00106.png  \n",
            "  inflating: content/Segment-and-Track-Anything/tracking_results/1704936041/1704936041_masks/00113.png  \n",
            "  inflating: content/Segment-and-Track-Anything/tracking_results/1704936041/1704936041_masks/00132.png  \n",
            "  inflating: content/Segment-and-Track-Anything/tracking_results/1704936041/1704936041_masks/00100.png  \n",
            "  inflating: content/Segment-and-Track-Anything/tracking_results/1704936041/1704936041_masks/00087.png  \n",
            "  inflating: content/Segment-and-Track-Anything/tracking_results/1704936041/1704936041_masks/00108.png  \n",
            "  inflating: content/Segment-and-Track-Anything/tracking_results/1704936041/1704936041_masks/00070.png  \n",
            "  inflating: content/Segment-and-Track-Anything/tracking_results/1704936041/1704936041_masks/00063.png  \n",
            "  inflating: content/Segment-and-Track-Anything/tracking_results/1704936041/1704936041_masks/00058.png  \n",
            "  inflating: content/Segment-and-Track-Anything/tracking_results/1704936041/1704936041_masks/00123.png  \n",
            "  inflating: content/Segment-and-Track-Anything/tracking_results/1704936041/1704936041_masks/00013.png  \n",
            "  inflating: content/Segment-and-Track-Anything/tracking_results/1704936041/1704936041_masks/00057.png  \n",
            "  inflating: content/Segment-and-Track-Anything/tracking_results/1704936041/1704936041_masks/00054.png  \n",
            "  inflating: content/Segment-and-Track-Anything/tracking_results/1704936041/1704936041_masks/00017.png  \n",
            "  inflating: content/Segment-and-Track-Anything/tracking_results/1704936041/1704936041_masks/00056.png  \n",
            "  inflating: content/Segment-and-Track-Anything/tracking_results/1704936041/1704936041_masks/00116.png  \n",
            "  inflating: content/Segment-and-Track-Anything/tracking_results/1704936041/1704936041_masks/00016.png  \n",
            "  inflating: content/Segment-and-Track-Anything/tracking_results/1704936041/1704936041_masks/00096.png  \n",
            "  inflating: content/Segment-and-Track-Anything/tracking_results/1704936041/1704936041_masks/00117.png  \n",
            "  inflating: content/Segment-and-Track-Anything/tracking_results/1704936041/1704936041_masks/00018.png  \n",
            "  inflating: content/Segment-and-Track-Anything/tracking_results/1704936041/1704936041_masks/00024.png  \n",
            "  inflating: content/Segment-and-Track-Anything/tracking_results/1704936041/1704936041_masks/00074.png  \n",
            "  inflating: content/Segment-and-Track-Anything/tracking_results/1704936041/1704936041_masks/00015.png  \n",
            "  inflating: content/Segment-and-Track-Anything/tracking_results/1704936041/1704936041_masks/00006.png  \n",
            "  inflating: content/Segment-and-Track-Anything/tracking_results/1704936041/1704936041_masks/00005.png  \n",
            "  inflating: content/Segment-and-Track-Anything/tracking_results/1704936041/1704936041_masks/00003.png  \n",
            "  inflating: content/Segment-and-Track-Anything/tracking_results/1704936041/1704936041_masks/00008.png  \n",
            "  inflating: content/Segment-and-Track-Anything/tracking_results/1704936041/1704936041_masks/00029.png  \n",
            "  inflating: content/Segment-and-Track-Anything/tracking_results/1704936041/1704936041_masks/00059.png  \n",
            "  inflating: content/Segment-and-Track-Anything/tracking_results/1704936041/1704936041_masks/00036.png  \n",
            "  inflating: content/Segment-and-Track-Anything/tracking_results/1704936041/1704936041_masks/00009.png  \n",
            "  inflating: content/Segment-and-Track-Anything/tracking_results/1704936041/1704936041_masks/00092.png  \n",
            "  inflating: content/Segment-and-Track-Anything/tracking_results/1704936041/1704936041_masks/00014.png  \n",
            "  inflating: content/Segment-and-Track-Anything/tracking_results/1704936041/1704936041_masks/00082.png  \n",
            "  inflating: content/Segment-and-Track-Anything/tracking_results/1704936041/1704936041_masks/00095.png  \n",
            "  inflating: content/Segment-and-Track-Anything/tracking_results/1704936041/1704936041_masks/00084.png  \n",
            "  inflating: content/Segment-and-Track-Anything/tracking_results/1704936041/1704936041_masks/00068.png  \n",
            "  inflating: content/Segment-and-Track-Anything/tracking_results/1704936041/1704936041_masks/00060.png  \n",
            "  inflating: content/Segment-and-Track-Anything/tracking_results/1704936041/1704936041_masks/00001.png  \n",
            "  inflating: content/Segment-and-Track-Anything/tracking_results/1704936041/1704936041_masks/00077.png  \n",
            "  inflating: content/Segment-and-Track-Anything/tracking_results/1704936041/1704936041_masks/00079.png  \n",
            "  inflating: content/Segment-and-Track-Anything/tracking_results/1704936041/1704936041_masks/00020.png  \n",
            "  inflating: content/Segment-and-Track-Anything/tracking_results/1704936041/1704936041_masks/00053.png  \n",
            "  inflating: content/Segment-and-Track-Anything/tracking_results/1704936041/1704936041_masks/00128.png  \n",
            "  inflating: content/Segment-and-Track-Anything/tracking_results/1704936041/1704936041_masks/00104.png  \n",
            "  inflating: content/Segment-and-Track-Anything/tracking_results/1704936041/1704936041_masks/00046.png  \n",
            "  inflating: content/Segment-and-Track-Anything/tracking_results/1704936041/1704936041_masks/00069.png  \n",
            "  inflating: content/Segment-and-Track-Anything/tracking_results/1704936041/1704936041_masks/00100_new.png  \n",
            "  inflating: content/Segment-and-Track-Anything/tracking_results/1704936041/1704936041_masks/00035.png  \n",
            "  inflating: content/Segment-and-Track-Anything/tracking_results/1704936041/1704936041_masks/00038.png  \n",
            "  inflating: content/Segment-and-Track-Anything/tracking_results/1704936041/1704936041_masks/00072.png  \n",
            "  inflating: content/Segment-and-Track-Anything/tracking_results/1704936041/1704936041_masks/00125.png  \n",
            "  inflating: content/Segment-and-Track-Anything/tracking_results/1704936041/1704936041_masks/00089.png  \n",
            "  inflating: content/Segment-and-Track-Anything/tracking_results/1704936041/1704936041_masks/00085.png  \n",
            "  inflating: content/Segment-and-Track-Anything/tracking_results/1704936041/1704936041_masks/00044.png  \n",
            "  inflating: content/Segment-and-Track-Anything/tracking_results/1704936041/1704936041_masks/00023.png  \n",
            "  inflating: content/Segment-and-Track-Anything/tracking_results/1704936041/1704936041_masks/00094.png  \n",
            "  inflating: content/Segment-and-Track-Anything/tracking_results/1704936041/1704936041_masks/00118.png  \n",
            "  inflating: content/Segment-and-Track-Anything/tracking_results/1704936041/1704936041_masks/00004.png  \n",
            "  inflating: content/Segment-and-Track-Anything/tracking_results/1704936041/1704936041_masks/00083.png  \n",
            "  inflating: content/Segment-and-Track-Anything/tracking_results/1704936041/1704936041_masks/00075.png  \n",
            "  inflating: content/Segment-and-Track-Anything/tracking_results/1704936041/1704936041_masks/00127.png  \n",
            "  inflating: content/Segment-and-Track-Anything/tracking_results/1704936041/1704936041_masks/00098.png  \n",
            "  inflating: content/Segment-and-Track-Anything/tracking_results/1704936041/1704936041_masks/00120.png  \n",
            "  inflating: content/Segment-and-Track-Anything/tracking_results/1704936041/1704936041_masks/00055.png  \n",
            "  inflating: content/Segment-and-Track-Anything/tracking_results/1704936041/1704936041_masks/00109.png  \n",
            "  inflating: content/Segment-and-Track-Anything/tracking_results/1704936041/1704936041_masks/00103.png  \n",
            "  inflating: content/Segment-and-Track-Anything/tracking_results/1704936041/1704936041_masks/00037.png  \n",
            "  inflating: content/Segment-and-Track-Anything/tracking_results/1704936041/1704936041_masks/00111.png  \n",
            "  inflating: content/Segment-and-Track-Anything/tracking_results/1704936041/1704936041_masks/00000.png  \n",
            "  inflating: content/Segment-and-Track-Anything/tracking_results/1704936041/1704936041_masks/00130.png  \n",
            "  inflating: content/Segment-and-Track-Anything/tracking_results/1704936041/1704936041_masks/00080.png  \n",
            "  inflating: content/Segment-and-Track-Anything/tracking_results/1704936041/1704936041_masks/00107.png  \n",
            "  inflating: content/Segment-and-Track-Anything/tracking_results/1704936041/1704936041_masks/00124.png  \n",
            "  inflating: content/Segment-and-Track-Anything/tracking_results/1704936041/1704936041_masks/00086.png  \n",
            "  inflating: content/Segment-and-Track-Anything/tracking_results/1704936041/1704936041_masks/00045.png  \n",
            "  inflating: content/Segment-and-Track-Anything/tracking_results/1704936041/1704936041_masks/00131.png  \n",
            "  inflating: content/Segment-and-Track-Anything/tracking_results/1704936041/1704936041_masks/00010.png  \n",
            "  inflating: content/Segment-and-Track-Anything/tracking_results/1704936041/1704936041_masks/00066.png  \n",
            "  inflating: content/Segment-and-Track-Anything/tracking_results/1704936041/1704936041_masks/00105.png  \n",
            "  inflating: content/Segment-and-Track-Anything/tracking_results/1704936041/1704936041_masks/00119.png  \n",
            "  inflating: content/Segment-and-Track-Anything/tracking_results/1704936041/1704936041_masks/00097.png  \n",
            "  inflating: content/Segment-and-Track-Anything/tracking_results/1704936041/1704936041_masks/00028.png  \n",
            "  inflating: content/Segment-and-Track-Anything/tracking_results/1704936041/1704936041_masks/00110.png  \n",
            "  inflating: content/Segment-and-Track-Anything/tracking_results/1704936041/1704936041_masks/00040.png  \n",
            "  inflating: content/Segment-and-Track-Anything/tracking_results/1704936041/1704936041_masks/00048.png  \n",
            "  inflating: content/Segment-and-Track-Anything/tracking_results/1704936041/1704936041_masks/00122.png  \n"
          ]
        }
      ]
    },
    {
      "cell_type": "code",
      "source": [
        "!python inference_propainter.py --video inputs/object_removal/1 --mask inputs/object_removal/1_mask/content/Segment-and-Track-Anything/tracking_results/337218362/337218362_masks"
      ],
      "metadata": {
        "colab": {
          "base_uri": "https://localhost:8080/"
        },
        "id": "SPZny2zucXT7",
        "outputId": "00c42941-64b4-485a-ee36-8ae62de6fb2e"
      },
      "execution_count": 31,
      "outputs": [
        {
          "output_type": "stream",
          "name": "stdout",
          "text": [
            "python3: can't open file '/content/ProPainter/inputs/object_removal/5_mask/inference_propainter.py': [Errno 2] No such file or directory\n"
          ]
        }
      ]
    },
    {
      "cell_type": "code",
      "source": [
        "!pwd\n"
      ],
      "metadata": {
        "colab": {
          "base_uri": "https://localhost:8080/"
        },
        "id": "MchrbhxQcXgu",
        "outputId": "6858fd9d-fc09-45f4-cd97-98e86f182023"
      },
      "execution_count": 32,
      "outputs": [
        {
          "output_type": "stream",
          "name": "stdout",
          "text": [
            "/content/ProPainter/inputs/object_removal/5_mask\n"
          ]
        }
      ]
    },
    {
      "cell_type": "code",
      "source": [
        "%cd /content/ProPainter/\n",
        "!pwd"
      ],
      "metadata": {
        "colab": {
          "base_uri": "https://localhost:8080/"
        },
        "id": "grDBOaOacXq9",
        "outputId": "e8a782c3-1146-44fd-86c3-a56fcbe478d7"
      },
      "execution_count": 33,
      "outputs": [
        {
          "output_type": "stream",
          "name": "stdout",
          "text": [
            "/content/ProPainter\n",
            "/content/ProPainter\n"
          ]
        }
      ]
    },
    {
      "cell_type": "code",
      "source": [
        "!python inference_propainter.py --video inputs/object_removal/1 --mask inputs/object_removal/1_mask/content/Segment-and-Track-Anything/tracking_results/337218362/337218362_masks"
      ],
      "metadata": {
        "colab": {
          "base_uri": "https://localhost:8080/"
        },
        "id": "n8AqthrwdYOR",
        "outputId": "c9bdbd0c-febd-4fc6-affe-01883a2e2200"
      },
      "execution_count": 34,
      "outputs": [
        {
          "output_type": "stream",
          "name": "stdout",
          "text": [
            "Traceback (most recent call last):\n",
            "  File \"/content/ProPainter/inference_propainter.py\", line 224, in <module>\n",
            "    frames, fps, size, video_name = read_frame_from_videos(args.video)\n",
            "  File \"/content/ProPainter/inference_propainter.py\", line 62, in read_frame_from_videos\n",
            "    frame = Image.fromarray(cv2.cvtColor(frame, cv2.COLOR_BGR2RGB))\n",
            "cv2.error: OpenCV(4.8.0) /io/opencv/modules/imgproc/src/color.cpp:182: error: (-215:Assertion failed) !_src.empty() in function 'cvtColor'\n",
            "\n"
          ]
        }
      ]
    },
    {
      "cell_type": "code",
      "source": [
        "!python inference_propainter.py --video inputs/object_removal/1/337218362.mp4 --mask inputs/object_removal/1_mask/content/Segment-and-Track-Anything/tracking_results/337218362/337218362_masks"
      ],
      "metadata": {
        "colab": {
          "base_uri": "https://localhost:8080/"
        },
        "id": "fxzGVZeKiLtK",
        "outputId": "fcda8fc8-427b-4552-d15e-76cd983251a9"
      },
      "execution_count": 36,
      "outputs": [
        {
          "output_type": "stream",
          "name": "stdout",
          "text": [
            "Downloading: \"https://github.com/sczhou/ProPainter/releases/download/v0.1.0/raft-things.pth\" to /content/ProPainter/weights/raft-things.pth\n",
            "\n",
            "100% 20.1M/20.1M [00:00<00:00, 249MB/s]\n",
            "Downloading: \"https://github.com/sczhou/ProPainter/releases/download/v0.1.0/recurrent_flow_completion.pth\" to /content/ProPainter/weights/recurrent_flow_completion.pth\n",
            "\n",
            "100% 19.4M/19.4M [00:00<00:00, 75.0MB/s]\n",
            "Pretrained flow completion model has loaded...\n",
            "Downloading: \"https://github.com/sczhou/ProPainter/releases/download/v0.1.0/ProPainter.pth\" to /content/ProPainter/weights/ProPainter.pth\n",
            "\n",
            "100% 150M/150M [00:00<00:00, 274MB/s]\n",
            "Pretrained ProPainter has loaded...\n",
            "Network [InpaintGenerator] was created. Total number of parameters: 39.4 million. To see the architecture, do print(network).\n",
            "\n",
            "Processing: 337218362 [115 frames]...\n",
            "Traceback (most recent call last):\n",
            "  File \"/content/ProPainter/inference_propainter.py\", line 372, in <module>\n",
            "    masked_frames = frames * (1 - masks_dilated)\n",
            "RuntimeError: The size of tensor a (115) must match the size of tensor b (116) at non-singleton dimension 1\n"
          ]
        }
      ]
    },
    {
      "cell_type": "code",
      "source": [
        "!python inference_propainter.py --video inputs/object_removal/2/514114609.mp4 --mask inputs/object_removal/2_mask/content/Segment-and-Track-Anything/tracking_results/514114609/514114609_masks"
      ],
      "metadata": {
        "colab": {
          "base_uri": "https://localhost:8080/"
        },
        "id": "pL1xfup2jeWE",
        "outputId": "2d980a3b-8c08-462e-a708-28e8e012f481"
      },
      "execution_count": 39,
      "outputs": [
        {
          "output_type": "stream",
          "name": "stdout",
          "text": [
            "Pretrained flow completion model has loaded...\n",
            "Pretrained ProPainter has loaded...\n",
            "Network [InpaintGenerator] was created. Total number of parameters: 39.4 million. To see the architecture, do print(network).\n",
            "\n",
            "Processing: 514114609 [420 frames]...\n",
            "Traceback (most recent call last):\n",
            "  File \"/content/ProPainter/inference_propainter.py\", line 350, in <module>\n",
            "    pred_flows_bi_sub, _ = fix_flow_complete.forward_bidirect_flow(\n",
            "  File \"/content/ProPainter/model/recurrent_flow_completion.py\", line 327, in forward_bidirect_flow\n",
            "    pred_flows_forward, pred_edges_forward = self.forward(masked_flows_forward, masks_forward)\n",
            "  File \"/content/ProPainter/model/recurrent_flow_completion.py\", line 300, in forward\n",
            "    flow = self.upsample(feat_d1)\n",
            "  File \"/usr/local/lib/python3.10/dist-packages/torch/nn/modules/module.py\", line 1518, in _wrapped_call_impl\n",
            "    return self._call_impl(*args, **kwargs)\n",
            "  File \"/usr/local/lib/python3.10/dist-packages/torch/nn/modules/module.py\", line 1527, in _call_impl\n",
            "    return forward_call(*args, **kwargs)\n",
            "  File \"/usr/local/lib/python3.10/dist-packages/torch/nn/modules/container.py\", line 215, in forward\n",
            "    input = module(input)\n",
            "  File \"/usr/local/lib/python3.10/dist-packages/torch/nn/modules/module.py\", line 1518, in _wrapped_call_impl\n",
            "    return self._call_impl(*args, **kwargs)\n",
            "  File \"/usr/local/lib/python3.10/dist-packages/torch/nn/modules/module.py\", line 1527, in _call_impl\n",
            "    return forward_call(*args, **kwargs)\n",
            "  File \"/content/ProPainter/model/recurrent_flow_completion.py\", line 141, in forward\n",
            "    x = F.interpolate(x,\n",
            "  File \"/usr/local/lib/python3.10/dist-packages/torch/nn/functional.py\", line 4020, in interpolate\n",
            "    return torch._C._nn.upsample_bilinear2d(input, output_size, align_corners, scale_factors)\n",
            "torch.cuda.OutOfMemoryError: CUDA out of memory. Tried to allocate 2.39 GiB. GPU 0 has a total capacty of 14.75 GiB of which 1.91 GiB is free. Process 113198 has 12.84 GiB memory in use. Of the allocated memory 8.35 GiB is allocated by PyTorch, and 3.43 GiB is reserved by PyTorch but unallocated. If reserved but unallocated memory is large try setting max_split_size_mb to avoid fragmentation.  See documentation for Memory Management and PYTORCH_CUDA_ALLOC_CONF\n"
          ]
        }
      ]
    },
    {
      "cell_type": "code",
      "source": [
        "!python inference_propainter.py --video inputs/object_removal/3/1217778986.mp4 --mask /content/ProPainter/inputs/object_removal/3_mask/content/Segment-and-Track-Anything/tracking_results/1217778986/1217778986_masks"
      ],
      "metadata": {
        "colab": {
          "base_uri": "https://localhost:8080/"
        },
        "id": "Au_ALnE0lcdG",
        "outputId": "44124167-275b-443e-801a-831c31680312"
      },
      "execution_count": 40,
      "outputs": [
        {
          "output_type": "stream",
          "name": "stdout",
          "text": [
            "Pretrained flow completion model has loaded...\n",
            "Pretrained ProPainter has loaded...\n",
            "Network [InpaintGenerator] was created. Total number of parameters: 39.4 million. To see the architecture, do print(network).\n",
            "\n",
            "Processing: 1217778986 [172 frames]...\n",
            "Traceback (most recent call last):\n",
            "  File \"/content/ProPainter/inference_propainter.py\", line 372, in <module>\n",
            "    masked_frames = frames * (1 - masks_dilated)\n",
            "RuntimeError: The size of tensor a (172) must match the size of tensor b (173) at non-singleton dimension 1\n"
          ]
        }
      ]
    },
    {
      "cell_type": "code",
      "source": [
        "!cp /content/ProPainter/inputs/object_removal/3_mask/content/Segment-and-Track-Anything/tracking_results/1217778986/1217778986_masks/00171.png /content/ProPainter/inputs/object_removal/3_mask/content/Segment-and-Track-Anything/tracking_results/1217778986/1217778986_masks/00172.png"
      ],
      "metadata": {
        "id": "4WjvgeK4nZR3"
      },
      "execution_count": 41,
      "outputs": []
    },
    {
      "cell_type": "code",
      "source": [
        "!python inference_propainter.py --video inputs/object_removal/3/1217778986.mp4 --mask inputs/object_removal/3_mask/content/Segment-and-Track-Anything/tracking_results/1217778986/1217778986_masks/"
      ],
      "metadata": {
        "colab": {
          "base_uri": "https://localhost:8080/"
        },
        "id": "rvfNIh4snvAu",
        "outputId": "9ab4656b-192d-4b58-9844-49e83c12fcf8"
      },
      "execution_count": 47,
      "outputs": [
        {
          "output_type": "stream",
          "name": "stdout",
          "text": [
            "Pretrained flow completion model has loaded...\n",
            "Pretrained ProPainter has loaded...\n",
            "Network [InpaintGenerator] was created. Total number of parameters: 39.4 million. To see the architecture, do print(network).\n",
            "\n",
            "Processing: 1217778986 [172 frames]...\n",
            "100% 35/35 [02:00<00:00,  3.45s/it]\n",
            "\n",
            "All results are saved in results/1217778986\n"
          ]
        }
      ]
    },
    {
      "cell_type": "code",
      "source": [
        "!python inference_propainter.py --video inputs/object_removal/1/337218362.mp4 --mask inputs/object_removal/1_mask/content/Segment-and-Track-Anything/tracking_results/337218362/337218362_masks/"
      ],
      "metadata": {
        "colab": {
          "base_uri": "https://localhost:8080/"
        },
        "id": "EYm2bkSKqZrA",
        "outputId": "e4b4cbea-a56e-476c-fc06-823a9dc3d2b5"
      },
      "execution_count": 51,
      "outputs": [
        {
          "output_type": "stream",
          "name": "stdout",
          "text": [
            "Pretrained flow completion model has loaded...\n",
            "Pretrained ProPainter has loaded...\n",
            "Network [InpaintGenerator] was created. Total number of parameters: 39.4 million. To see the architecture, do print(network).\n",
            "\n",
            "Processing: 337218362 [115 frames]...\n",
            "100% 23/23 [01:14<00:00,  3.24s/it]\n",
            "\n",
            "All results are saved in results/337218362\n"
          ]
        }
      ]
    },
    {
      "cell_type": "code",
      "source": [
        "!python inference_propainter.py --video inputs/object_removal/4/1384620913.mp4 --mask inputs/object_removal/4_mask/content/Segment-and-Track-Anything/tracking_results/1384620913/1384620913_masks/"
      ],
      "metadata": {
        "colab": {
          "base_uri": "https://localhost:8080/"
        },
        "id": "AUeVxTbwr8SL",
        "outputId": "5961dfac-1077-418d-c59a-16d353523fad"
      },
      "execution_count": 54,
      "outputs": [
        {
          "output_type": "stream",
          "name": "stdout",
          "text": [
            "Pretrained flow completion model has loaded...\n",
            "Pretrained ProPainter has loaded...\n",
            "Network [InpaintGenerator] was created. Total number of parameters: 39.4 million. To see the architecture, do print(network).\n",
            "\n",
            "Processing: 1384620913 [196 frames]...\n",
            "100% 40/40 [02:25<00:00,  3.64s/it]\n",
            "\n",
            "All results are saved in results/1384620913\n"
          ]
        }
      ]
    },
    {
      "cell_type": "code",
      "source": [
        "!python inference_propainter.py --video inputs/object_removal/5/1704936041.mp4 --mask /content/ProPainter/inputs/object_removal/5_mask/content/Segment-and-Track-Anything/tracking_results/1704936041/1704936041_masks/"
      ],
      "metadata": {
        "colab": {
          "base_uri": "https://localhost:8080/"
        },
        "id": "Pg-MEuQOtVnK",
        "outputId": "c27c6928-fd3a-4305-9dba-367f3c02ce23"
      },
      "execution_count": 57,
      "outputs": [
        {
          "output_type": "stream",
          "name": "stdout",
          "text": [
            "Pretrained flow completion model has loaded...\n",
            "Pretrained ProPainter has loaded...\n",
            "Network [InpaintGenerator] was created. Total number of parameters: 39.4 million. To see the architecture, do print(network).\n",
            "\n",
            "Processing: 1704936041 [133 frames]...\n",
            "100% 27/27 [01:28<00:00,  3.29s/it]\n",
            "\n",
            "All results are saved in results/1704936041\n"
          ]
        }
      ]
    },
    {
      "cell_type": "code",
      "source": [
        "!python inference_propainter.py --video inputs/object_removal/2/514114609.mp4 --mask /content/ProPainter/inputs/object_removal/2_mask/content/Segment-and-Track-Anything/tracking_results/514114609/514114609_masks/"
      ],
      "metadata": {
        "colab": {
          "base_uri": "https://localhost:8080/"
        },
        "id": "GEFFOWdNujOn",
        "outputId": "43edd01d-db77-49a2-e6da-b0c2ec794965"
      },
      "execution_count": 60,
      "outputs": [
        {
          "output_type": "stream",
          "name": "stdout",
          "text": [
            "Pretrained flow completion model has loaded...\n",
            "Pretrained ProPainter has loaded...\n",
            "Network [InpaintGenerator] was created. Total number of parameters: 39.4 million. To see the architecture, do print(network).\n",
            "\n",
            "Processing: 514114609 [420 frames]...\n",
            "Traceback (most recent call last):\n",
            "  File \"/content/ProPainter/inference_propainter.py\", line 350, in <module>\n",
            "    pred_flows_bi_sub, _ = fix_flow_complete.forward_bidirect_flow(\n",
            "  File \"/content/ProPainter/model/recurrent_flow_completion.py\", line 327, in forward_bidirect_flow\n",
            "    pred_flows_forward, pred_edges_forward = self.forward(masked_flows_forward, masks_forward)\n",
            "  File \"/content/ProPainter/model/recurrent_flow_completion.py\", line 300, in forward\n",
            "    flow = self.upsample(feat_d1)\n",
            "  File \"/usr/local/lib/python3.10/dist-packages/torch/nn/modules/module.py\", line 1518, in _wrapped_call_impl\n",
            "    return self._call_impl(*args, **kwargs)\n",
            "  File \"/usr/local/lib/python3.10/dist-packages/torch/nn/modules/module.py\", line 1527, in _call_impl\n",
            "    return forward_call(*args, **kwargs)\n",
            "  File \"/usr/local/lib/python3.10/dist-packages/torch/nn/modules/container.py\", line 215, in forward\n",
            "    input = module(input)\n",
            "  File \"/usr/local/lib/python3.10/dist-packages/torch/nn/modules/module.py\", line 1518, in _wrapped_call_impl\n",
            "    return self._call_impl(*args, **kwargs)\n",
            "  File \"/usr/local/lib/python3.10/dist-packages/torch/nn/modules/module.py\", line 1527, in _call_impl\n",
            "    return forward_call(*args, **kwargs)\n",
            "  File \"/content/ProPainter/model/recurrent_flow_completion.py\", line 141, in forward\n",
            "    x = F.interpolate(x,\n",
            "  File \"/usr/local/lib/python3.10/dist-packages/torch/nn/functional.py\", line 4020, in interpolate\n",
            "    return torch._C._nn.upsample_bilinear2d(input, output_size, align_corners, scale_factors)\n",
            "torch.cuda.OutOfMemoryError: CUDA out of memory. Tried to allocate 2.39 GiB. GPU 0 has a total capacty of 14.75 GiB of which 1.90 GiB is free. Process 206536 has 12.85 GiB memory in use. Of the allocated memory 8.35 GiB is allocated by PyTorch, and 3.44 GiB is reserved by PyTorch but unallocated. If reserved but unallocated memory is large try setting max_split_size_mb to avoid fragmentation.  See documentation for Memory Management and PYTORCH_CUDA_ALLOC_CONF\n"
          ]
        }
      ]
    },
    {
      "cell_type": "code",
      "source": [
        "!rm -rf /content/ProPainter/inputs/object_removal/2_mask/content/Segment-and-Track-Anything/tracking_results/514114609/514114609_masks/.ipynb_checkpoints"
      ],
      "metadata": {
        "id": "0YoRxi92u10G"
      },
      "execution_count": 59,
      "outputs": []
    },
    {
      "cell_type": "code",
      "source": [
        "!rm -rf /content/ProPainter/inputs/object_removal/5_mask/content/Segment-and-Track-Anything/tracking_results/1704936041/1704936041_masks/.ipynb_checkpoints"
      ],
      "metadata": {
        "id": "QL6JPb2dt3kF"
      },
      "execution_count": 56,
      "outputs": []
    },
    {
      "cell_type": "code",
      "source": [
        "!rm -rf inputs/object_removal/4_mask/content/Segment-and-Track-Anything/tracking_results/1384620913/1384620913_masks/.ipynb_checkpoints"
      ],
      "metadata": {
        "id": "3Usum2-nsU0d"
      },
      "execution_count": 53,
      "outputs": []
    },
    {
      "cell_type": "code",
      "source": [
        "!rm -rf inputs/object_removal/1_mask/content/Segment-and-Track-Anything/tracking_results/337218362/337218362_masks/.ipynb_checkpoints"
      ],
      "metadata": {
        "id": "gfcoyXrarVYC"
      },
      "execution_count": 50,
      "outputs": []
    },
    {
      "cell_type": "code",
      "source": [
        "!rm -rf inputs/object_removal/3_mask/content/Segment-and-Track-Anything/tracking_results/1217778986/1217778986_masks/.ipynb_checkpoints"
      ],
      "metadata": {
        "id": "Qd2UW7Yuo8ta"
      },
      "execution_count": 46,
      "outputs": []
    },
    {
      "cell_type": "code",
      "source": [
        "!python inference_propainter.py --video inputs/object_removal/3/1217778 --mask"
      ],
      "metadata": {
        "id": "oR0EN3fxluQL"
      },
      "execution_count": null,
      "outputs": []
    },
    {
      "cell_type": "code",
      "source": [
        "!python inference_propainter.py --video inputs/object_removal/2 --mask inputs/object_removal/2_mask/content/Segment-and-Track-Anything/tracking_results/514114609/514114609_masks"
      ],
      "metadata": {
        "colab": {
          "base_uri": "https://localhost:8080/"
        },
        "id": "k6Sb1TMzd6NV",
        "outputId": "6029af1c-3827-426b-b5ee-f03d32bb45c0"
      },
      "execution_count": 35,
      "outputs": [
        {
          "output_type": "stream",
          "name": "stdout",
          "text": [
            "Traceback (most recent call last):\n",
            "  File \"/content/ProPainter/inference_propainter.py\", line 224, in <module>\n",
            "    frames, fps, size, video_name = read_frame_from_videos(args.video)\n",
            "  File \"/content/ProPainter/inference_propainter.py\", line 62, in read_frame_from_videos\n",
            "    frame = Image.fromarray(cv2.cvtColor(frame, cv2.COLOR_BGR2RGB))\n",
            "cv2.error: OpenCV(4.8.0) /io/opencv/modules/imgproc/src/color.cpp:182: error: (-215:Assertion failed) !_src.empty() in function 'cvtColor'\n",
            "\n"
          ]
        }
      ]
    },
    {
      "cell_type": "code",
      "source": [
        "!python inference_propainter.py --video inputs/object_removal/bmx-trees --mask inputs/object_removal/bmx-trees_mask"
      ],
      "metadata": {
        "colab": {
          "base_uri": "https://localhost:8080/"
        },
        "id": "a-pEf3TDooB1",
        "outputId": "de3867d1-2ec2-499c-f378-f29b3dec734c"
      },
      "execution_count": 13,
      "outputs": [
        {
          "output_type": "stream",
          "name": "stdout",
          "text": [
            "Downloading: \"https://github.com/sczhou/ProPainter/releases/download/v0.1.0/raft-things.pth\" to /content/ProPainter/weights/raft-things.pth\n",
            "\n",
            "100% 20.1M/20.1M [00:00<00:00, 161MB/s]\n",
            "Downloading: \"https://github.com/sczhou/ProPainter/releases/download/v0.1.0/recurrent_flow_completion.pth\" to /content/ProPainter/weights/recurrent_flow_completion.pth\n",
            "\n",
            "100% 19.4M/19.4M [00:00<00:00, 168MB/s]\n",
            "Pretrained flow completion model has loaded...\n",
            "Downloading: \"https://github.com/sczhou/ProPainter/releases/download/v0.1.0/ProPainter.pth\" to /content/ProPainter/weights/ProPainter.pth\n",
            "\n",
            "100% 150M/150M [00:00<00:00, 207MB/s]\n",
            "Pretrained ProPainter has loaded...\n",
            "Network [InpaintGenerator] was created. Total number of parameters: 39.4 million. To see the architecture, do print(network).\n",
            "\n",
            "Processing: bmx-trees [80 frames]...\n",
            "100% 16/16 [00:16<00:00,  1.02s/it]\n",
            "\n",
            "All results are saved in results/bmx-trees\n"
          ]
        }
      ]
    },
    {
      "cell_type": "code",
      "source": [
        "!python inference_propainter.py --video inputs/video_completion/running_car.mp4 --mask inputs/video_completion/mask_square.png --height 240 --width 432\n"
      ],
      "metadata": {
        "colab": {
          "base_uri": "https://localhost:8080/"
        },
        "id": "ZViAZNozs0Fj",
        "outputId": "0b4b4fa3-3b9b-4c79-c6ed-d2ee46e20970"
      },
      "execution_count": 16,
      "outputs": [
        {
          "output_type": "stream",
          "name": "stdout",
          "text": [
            "Pretrained flow completion model has loaded...\n",
            "Pretrained ProPainter has loaded...\n",
            "Network [InpaintGenerator] was created. Total number of parameters: 39.4 million. To see the architecture, do print(network).\n",
            "\n",
            "Processing: running_car [292 frames]...\n",
            "100% 59/59 [01:12<00:00,  1.23s/it]\n",
            "\n",
            "All results are saved in results/running_car\n"
          ]
        }
      ]
    },
    {
      "cell_type": "code",
      "source": [],
      "metadata": {
        "id": "Lt-Q7b8mvoZX"
      },
      "execution_count": null,
      "outputs": []
    },
    {
      "cell_type": "code",
      "source": [
        "!pwd"
      ],
      "metadata": {
        "colab": {
          "base_uri": "https://localhost:8080/"
        },
        "id": "TAGkp2Envoxf",
        "outputId": "affd1b23-7319-46eb-fcb0-7764102c8fc6"
      },
      "execution_count": 61,
      "outputs": [
        {
          "output_type": "stream",
          "name": "stdout",
          "text": [
            "/content/ProPainter\n"
          ]
        }
      ]
    },
    {
      "cell_type": "code",
      "source": [
        "!cp -r /content/ProPainter/results   /content/drive/MyDrive/"
      ],
      "metadata": {
        "id": "5NqqliTowC3m"
      },
      "execution_count": 63,
      "outputs": []
    }
  ]
}