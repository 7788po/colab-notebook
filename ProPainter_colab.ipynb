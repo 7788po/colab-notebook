{
  "cells": [
    {
      "cell_type": "markdown",
      "metadata": {
        "id": "view-in-github",
        "colab_type": "text"
      },
      "source": [
        "<a href=\"https://colab.research.google.com/github/7788po/colab-notebook/blob/main/ProPainter_colab.ipynb\" target=\"_parent\"><img src=\"https://colab.research.google.com/assets/colab-badge.svg\" alt=\"Open In Colab\"/></a>"
      ]
    },
    {
      "cell_type": "code",
      "execution_count": 1,
      "metadata": {
        "id": "VjYy0F2gZIPR",
        "colab": {
          "base_uri": "https://localhost:8080/"
        },
        "outputId": "a69c7ef0-5bc7-49a2-a8d3-b14b14ff63f3"
      },
      "outputs": [
        {
          "output_type": "stream",
          "name": "stdout",
          "text": [
            "/content\n",
            "Cloning into 'ProPainter'...\n",
            "remote: Enumerating objects: 451, done.\u001b[K\n",
            "remote: Counting objects: 100% (29/29), done.\u001b[K\n",
            "remote: Compressing objects: 100% (6/6), done.\u001b[K\n",
            "remote: Total 451 (delta 25), reused 23 (delta 23), pack-reused 422\u001b[K\n",
            "Receiving objects: 100% (451/451), 36.76 MiB | 39.04 MiB/s, done.\n",
            "Resolving deltas: 100% (40/40), done.\n",
            "/content/ProPainter\n",
            "The following additional packages will be installed:\n",
            "  libaria2-0 libc-ares2\n",
            "The following NEW packages will be installed:\n",
            "  aria2 libaria2-0 libc-ares2\n",
            "0 upgraded, 3 newly installed, 0 to remove and 18 not upgraded.\n",
            "Need to get 1,513 kB of archives.\n",
            "After this operation, 5,441 kB of additional disk space will be used.\n",
            "Selecting previously unselected package libc-ares2:amd64.\n",
            "(Reading database ... 120875 files and directories currently installed.)\n",
            "Preparing to unpack .../libc-ares2_1.18.1-1ubuntu0.22.04.2_amd64.deb ...\n",
            "Unpacking libc-ares2:amd64 (1.18.1-1ubuntu0.22.04.2) ...\n",
            "Selecting previously unselected package libaria2-0:amd64.\n",
            "Preparing to unpack .../libaria2-0_1.36.0-1_amd64.deb ...\n",
            "Unpacking libaria2-0:amd64 (1.36.0-1) ...\n",
            "Selecting previously unselected package aria2.\n",
            "Preparing to unpack .../aria2_1.36.0-1_amd64.deb ...\n",
            "Unpacking aria2 (1.36.0-1) ...\n",
            "Setting up libc-ares2:amd64 (1.18.1-1ubuntu0.22.04.2) ...\n",
            "Setting up libaria2-0:amd64 (1.36.0-1) ...\n",
            "Setting up aria2 (1.36.0-1) ...\n",
            "Processing triggers for man-db (2.10.2-1) ...\n",
            "Processing triggers for libc-bin (2.35-0ubuntu3.1) ...\n",
            "/sbin/ldconfig.real: /usr/local/lib/libtbb.so.12 is not a symbolic link\n",
            "\n",
            "/sbin/ldconfig.real: /usr/local/lib/libtbbbind_2_0.so.3 is not a symbolic link\n",
            "\n",
            "/sbin/ldconfig.real: /usr/local/lib/libtbbbind.so.3 is not a symbolic link\n",
            "\n",
            "/sbin/ldconfig.real: /usr/local/lib/libtbbmalloc_proxy.so.2 is not a symbolic link\n",
            "\n",
            "/sbin/ldconfig.real: /usr/local/lib/libtbbbind_2_5.so.3 is not a symbolic link\n",
            "\n",
            "/sbin/ldconfig.real: /usr/local/lib/libtbbmalloc.so.2 is not a symbolic link\n",
            "\n",
            "\n",
            "Download Results:\n",
            "gid   |stat|avg speed  |path/URI\n",
            "======+====+===========+=======================================================\n",
            "2045d0|\u001b[1;32mOK\u001b[0m  |   168MiB/s|/content/ProPainter/weights/i3d_rgb_imagenet.pt\n",
            "\n",
            "Status Legend:\n",
            "(OK):download completed.\n",
            "\n",
            "Download Results:\n",
            "gid   |stat|avg speed  |path/URI\n",
            "======+====+===========+=======================================================\n",
            "8918d1|\u001b[1;32mOK\u001b[0m  |    82MiB/s|/content/ProPainter/weights/raft-things.pth\n",
            "\n",
            "Status Legend:\n",
            "(OK):download completed.\n",
            "\n",
            "Download Results:\n",
            "gid   |stat|avg speed  |path/URI\n",
            "======+====+===========+=======================================================\n",
            "1f31a2|\u001b[1;32mOK\u001b[0m  |    50MiB/s|/content/ProPainter/weights/recurrent_flow_completion.pth\n",
            "\n",
            "Status Legend:\n",
            "(OK):download completed.\n",
            "\u001b[0m\n",
            "Download Results:\n",
            "gid   |stat|avg speed  |path/URI\n",
            "======+====+===========+=======================================================\n",
            "57687b|\u001b[1;32mOK\u001b[0m  |   166MiB/s|/content/ProPainter/weights/ProPainter.pth\n",
            "\n",
            "Status Legend:\n",
            "(OK):download completed.\n",
            "\u001b[2K     \u001b[90m━━━━━━━━━━━━━━━━━━━━━━━━━━━━━━━━━━━━━━━━\u001b[0m \u001b[32m30.4/30.4 MB\u001b[0m \u001b[31m56.9 MB/s\u001b[0m eta \u001b[36m0:00:00\u001b[0m\n",
            "\u001b[2K     \u001b[90m━━━━━━━━━━━━━━━━━━━━━━━━━━━━━━━━━━━━━━━\u001b[0m \u001b[32m254.7/254.7 kB\u001b[0m \u001b[31m4.2 MB/s\u001b[0m eta \u001b[36m0:00:00\u001b[0m\n",
            "\u001b[2K     \u001b[90m━━━━━━━━━━━━━━━━━━━━━━━━━━━━━━━━━━━━━━━━\u001b[0m \u001b[32m2.2/2.2 MB\u001b[0m \u001b[31m26.1 MB/s\u001b[0m eta \u001b[36m0:00:00\u001b[0m\n",
            "\u001b[2K     \u001b[90m━━━━━━━━━━━━━━━━━━━━━━━━━━━━━━━━━━━━━━━━\u001b[0m \u001b[32m44.6/44.6 kB\u001b[0m \u001b[31m5.4 MB/s\u001b[0m eta \u001b[36m0:00:00\u001b[0m\n",
            "\u001b[2K     \u001b[90m━━━━━━━━━━━━━━━━━━━━━━━━━━━━━━━━━━━━━━━━\u001b[0m \u001b[32m31.0/31.0 MB\u001b[0m \u001b[31m12.2 MB/s\u001b[0m eta \u001b[36m0:00:00\u001b[0m\n",
            "\u001b[2K     \u001b[90m━━━━━━━━━━━━━━━━━━━━━━━━━━━━━━━━━━━━━━\u001b[0m \u001b[32m295.0/295.0 kB\u001b[0m \u001b[31m31.6 MB/s\u001b[0m eta \u001b[36m0:00:00\u001b[0m\n",
            "\u001b[2K     \u001b[90m━━━━━━━━━━━━━━━━━━━━━━━━━━━━━━━━━━━━━━━━\u001b[0m \u001b[32m1.3/1.3 MB\u001b[0m \u001b[31m72.8 MB/s\u001b[0m eta \u001b[36m0:00:00\u001b[0m\n",
            "\u001b[?25h"
          ]
        }
      ],
      "source": [
        "%cd /content\n",
        "!git clone -b dev https://github.com/camenduru/ProPainter\n",
        "%cd /content/ProPainter\n",
        "\n",
        "!apt -y install -qq aria2\n",
        "!aria2c --console-log-level=error -c -x 16 -s 16 -k 1M https://huggingface.co/camenduru/ProPainter/resolve/main/i3d_rgb_imagenet.pt -d /content/ProPainter/weights -o i3d_rgb_imagenet.pt\n",
        "!aria2c --console-log-level=error -c -x 16 -s 16 -k 1M https://huggingface.co/camenduru/ProPainter/resolve/main/raft-things.pth -d /content/ProPainter/weights -o raft-things.pth\n",
        "!aria2c --console-log-level=error -c -x 16 -s 16 -k 1M https://huggingface.co/camenduru/ProPainter/resolve/main/recurrent_flow_completion.pth -d /content/ProPainter/weights -o recurrent_flow_completion.pth\n",
        "!aria2c --console-log-level=error -c -x 16 -s 16 -k 1M https://huggingface.co/camenduru/ProPainter/resolve/main/ProPainter.pth -d /content/ProPainter/weights -o ProPainter.pth\n",
        "\n",
        "!pip install -q https://github.com/camenduru/insightface-face-detection-colab/releases/download/v0.1/mmcv_full-1.7.0-cp310-cp310-linux_x86_64.whl\n",
        "!pip install -q timm einops av"
      ]
    },
    {
      "cell_type": "code",
      "execution_count": 2,
      "metadata": {
        "colab": {
          "base_uri": "https://localhost:8080/"
        },
        "id": "h1ukkb9ajRSy",
        "outputId": "f42183b2-e8d2-41a4-9f0a-f56b4eca101f"
      },
      "outputs": [
        {
          "output_type": "stream",
          "name": "stdout",
          "text": [
            "/usr/local/lib/python3.10/dist-packages/mmcv/__init__.py:20: UserWarning: On January 1, 2023, MMCV will release v2.0.0, in which it will remove components related to the training process and add a data transformation module. In addition, it will rename the package names mmcv to mmcv-lite and mmcv-full to mmcv. See https://github.com/open-mmlab/mmcv/blob/master/docs/en/compatibility.md for more details.\n",
            "  warnings.warn(\n",
            "Pretrained flow completion model has loaded...\n",
            "Pretrained ProPainter has loaded...\n",
            "Network [InpaintGenerator] was created. Total number of parameters: 39.4 million. To see the architecture, do print(network).\n",
            "\n",
            "Processing: bmx-trees [80 frames]...\n",
            "100% 16/16 [00:16<00:00,  1.02s/it]\n",
            "\n",
            "All results are saved in results/bmx-trees\n"
          ]
        }
      ],
      "source": [
        "# The first example (object removal)\n",
        "!python inference_propainter.py --video inputs/object_removal/bmx-trees --mask inputs/object_removal/bmx-trees_mask"
      ]
    },
    {
      "cell_type": "code",
      "execution_count": 3,
      "metadata": {
        "colab": {
          "base_uri": "https://localhost:8080/"
        },
        "id": "_uhlqZc4jRSy",
        "outputId": "6deae6c5-ff7b-49d7-985f-4867e792a858"
      },
      "outputs": [
        {
          "output_type": "stream",
          "name": "stdout",
          "text": [
            "/usr/local/lib/python3.10/dist-packages/mmcv/__init__.py:20: UserWarning: On January 1, 2023, MMCV will release v2.0.0, in which it will remove components related to the training process and add a data transformation module. In addition, it will rename the package names mmcv to mmcv-lite and mmcv-full to mmcv. See https://github.com/open-mmlab/mmcv/blob/master/docs/en/compatibility.md for more details.\n",
            "  warnings.warn(\n",
            "Pretrained flow completion model has loaded...\n",
            "Pretrained ProPainter has loaded...\n",
            "Network [InpaintGenerator] was created. Total number of parameters: 39.4 million. To see the architecture, do print(network).\n",
            "\n",
            "Processing: tennis [70 frames]...\n",
            "100% 14/14 [00:14<00:00,  1.03s/it]\n",
            "\n",
            "All results are saved in results/tennis\n"
          ]
        }
      ],
      "source": [
        "# The first example (object removal)\n",
        "!python inference_propainter.py --video inputs/object_removal/tennis --mask inputs/object_removal/tennis_mask"
      ]
    },
    {
      "cell_type": "code",
      "source": [
        "from google.colab import drive\n",
        "drive.mount('/content/drive')"
      ],
      "metadata": {
        "colab": {
          "base_uri": "https://localhost:8080/"
        },
        "id": "TzBli4nftqCW",
        "outputId": "62a1fd5e-c725-463e-d524-3a487f94c13e"
      },
      "execution_count": 4,
      "outputs": [
        {
          "output_type": "stream",
          "name": "stdout",
          "text": [
            "Mounted at /content/drive\n"
          ]
        }
      ]
    },
    {
      "cell_type": "code",
      "source": [
        "!pwd\n",
        "!cp -r /content/ProPainter/results /content/drive/MyDrive/Colab\\ Notebooks"
      ],
      "metadata": {
        "colab": {
          "base_uri": "https://localhost:8080/"
        },
        "id": "xOdicj6ht7pC",
        "outputId": "41a8935d-abde-431b-8f31-aa80dd0ee2da"
      },
      "execution_count": 11,
      "outputs": [
        {
          "output_type": "stream",
          "name": "stdout",
          "text": [
            "/content/ProPainter\n"
          ]
        }
      ]
    },
    {
      "cell_type": "code",
      "source": [
        "!cp -r /content/ProPainter/inputs /content/drive/MyDrive/Colab\\ Notebooks"
      ],
      "metadata": {
        "id": "EcRcVBoExEpM"
      },
      "execution_count": 12,
      "outputs": []
    },
    {
      "cell_type": "code",
      "source": [
        "!python inference_propainter.py --video inputs/watermark_removal/running_car.mp4 --mask inputs/watermark_removal/mask.png --height 240 --width 432"
      ],
      "metadata": {
        "colab": {
          "base_uri": "https://localhost:8080/"
        },
        "id": "uxjyHxbh3OVJ",
        "outputId": "adf9da35-abc3-4fcb-e205-5795579dfa87"
      },
      "execution_count": 18,
      "outputs": [
        {
          "output_type": "stream",
          "name": "stdout",
          "text": [
            "/usr/local/lib/python3.10/dist-packages/mmcv/__init__.py:20: UserWarning: On January 1, 2023, MMCV will release v2.0.0, in which it will remove components related to the training process and add a data transformation module. In addition, it will rename the package names mmcv to mmcv-lite and mmcv-full to mmcv. See https://github.com/open-mmlab/mmcv/blob/master/docs/en/compatibility.md for more details.\n",
            "  warnings.warn(\n",
            "Pretrained flow completion model has loaded...\n",
            "Pretrained ProPainter has loaded...\n",
            "Network [InpaintGenerator] was created. Total number of parameters: 39.4 million. To see the architecture, do print(network).\n",
            "\n",
            "Processing: running_car [192 frames]...\n",
            "100% 39/39 [01:16<00:00,  1.96s/it]\n",
            "\n",
            "All results are saved in results/running_car\n"
          ]
        }
      ]
    },
    {
      "cell_type": "code",
      "source": [
        "!cp -r /content/ProPainter/results /content/drive/MyDrive/Colab\\ Notebooks"
      ],
      "metadata": {
        "id": "IBJ9OzJL5Cb6"
      },
      "execution_count": 19,
      "outputs": []
    },
    {
      "cell_type": "code",
      "source": [
        "!mkdir -p  /content/20231007\n",
        "%cd /content/20231007\n",
        "!pwd\n",
        "!git clone https://github.com/sczhou/ProPainter.git\n"
      ],
      "metadata": {
        "colab": {
          "base_uri": "https://localhost:8080/"
        },
        "id": "g4i2X9EECS6o",
        "outputId": "a2c5bd75-ec63-4346-db89-222ef3e41485"
      },
      "execution_count": 25,
      "outputs": [
        {
          "output_type": "stream",
          "name": "stdout",
          "text": [
            "/content/20231007\n",
            "/content/20231007\n",
            "Cloning into 'ProPainter'...\n",
            "remote: Enumerating objects: 500, done.\u001b[K\n",
            "remote: Counting objects: 100% (19/19), done.\u001b[K\n",
            "remote: Compressing objects: 100% (3/3), done.\u001b[K\n",
            "remote: Total 500 (delta 17), reused 16 (delta 16), pack-reused 481\u001b[K\n",
            "Receiving objects: 100% (500/500), 50.29 MiB | 40.91 MiB/s, done.\n",
            "Resolving deltas: 100% (70/70), done.\n"
          ]
        }
      ]
    },
    {
      "cell_type": "code",
      "source": [
        "%cd /content/20231007/ProPainter\n",
        "!pwd\n",
        "!python inference_propainter.py --video inputs/video_completion/running_car.mp4 --mask inputs/video_completion/mask_square.png --height 240 --width 432"
      ],
      "metadata": {
        "colab": {
          "base_uri": "https://localhost:8080/"
        },
        "id": "S7FgrHJeDmBg",
        "outputId": "40e8dace-7cb3-4416-908a-6fa964b0bc7e"
      },
      "execution_count": 27,
      "outputs": [
        {
          "output_type": "stream",
          "name": "stdout",
          "text": [
            "/content/20231007/ProPainter\n",
            "/content/20231007/ProPainter\n",
            "Downloading: \"https://github.com/sczhou/ProPainter/releases/download/v0.1.0/raft-things.pth\" to /content/20231007/ProPainter/weights/raft-things.pth\n",
            "\n",
            "100% 20.1M/20.1M [00:00<00:00, 33.8MB/s]\n",
            "Downloading: \"https://github.com/sczhou/ProPainter/releases/download/v0.1.0/recurrent_flow_completion.pth\" to /content/20231007/ProPainter/weights/recurrent_flow_completion.pth\n",
            "\n",
            "100% 19.4M/19.4M [00:00<00:00, 168MB/s]\n",
            "Pretrained flow completion model has loaded...\n",
            "Downloading: \"https://github.com/sczhou/ProPainter/releases/download/v0.1.0/ProPainter.pth\" to /content/20231007/ProPainter/weights/ProPainter.pth\n",
            "\n",
            "100% 150M/150M [00:01<00:00, 124MB/s]\n",
            "Pretrained ProPainter has loaded...\n",
            "Network [InpaintGenerator] was created. Total number of parameters: 39.4 million. To see the architecture, do print(network).\n",
            "\n",
            "Processing: running_car [292 frames]...\n",
            "100% 59/59 [01:09<00:00,  1.18s/it]\n",
            "\n",
            "All results are saved in results/running_car\n"
          ]
        }
      ]
    },
    {
      "cell_type": "code",
      "source": [
        "!cp -r /content/20231007/ProPainter/results /content/drive/MyDrive/Colab\\ Notebooks"
      ],
      "metadata": {
        "id": "n-WIJY49EbCB"
      },
      "execution_count": 28,
      "outputs": []
    }
  ],
  "metadata": {
    "accelerator": "GPU",
    "colab": {
      "gpuType": "T4",
      "provenance": [],
      "include_colab_link": true
    },
    "kernelspec": {
      "display_name": "Python 3",
      "name": "python3"
    },
    "language_info": {
      "name": "python"
    }
  },
  "nbformat": 4,
  "nbformat_minor": 0
}